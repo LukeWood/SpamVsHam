{
  "nbformat": 4,
  "nbformat_minor": 0,
  "metadata": {
    "anaconda-cloud": {},
    "kernelspec": {
      "display_name": "Python 3",
      "language": "python",
      "name": "python3"
    },
    "language_info": {
      "codemirror_mode": {
        "name": "ipython",
        "version": 3
      },
      "file_extension": ".py",
      "mimetype": "text/x-python",
      "name": "python",
      "nbconvert_exporter": "python",
      "pygments_lexer": "ipython3",
      "version": "3.6.1"
    },
    "colab": {
      "name": "SpamVsHam.ipynb",
      "provenance": [],
      "collapsed_sections": [],
      "toc_visible": true
    },
    "accelerator": "GPU"
  },
  "cells": [
    {
      "cell_type": "markdown",
      "metadata": {
        "deletable": true,
        "editable": true,
        "id": "SqMq0daclXh2",
        "colab_type": "text"
      },
      "source": [
        "# Spam Text Classification\n",
        "## Spam or Ham"
      ]
    },
    {
      "cell_type": "code",
      "metadata": {
        "id": "peQji9Awk6fR",
        "colab_type": "code",
        "colab": {
          "base_uri": "https://localhost:8080/",
          "height": 34
        },
        "outputId": "b7f3aa66-75ae-494a-d7bd-23e6bbcc73a0"
      },
      "source": [
        "import random\n",
        "authors = [\"Luke Wood\", \"Justin Ledford\", \"Traian Pop\"]\n",
        "random.shuffle(authors)\n",
        "print(\"By\", ', '.join(authors), \"(in no particular order)\")"
      ],
      "execution_count": 55,
      "outputs": [
        {
          "output_type": "stream",
          "text": [
            "By Justin Ledford, Luke Wood, Traian Pop (in no particular order)\n"
          ],
          "name": "stdout"
        }
      ]
    },
    {
      "cell_type": "markdown",
      "metadata": {
        "deletable": true,
        "editable": true,
        "id": "kSbICxKHlXh6",
        "colab_type": "text"
      },
      "source": [
        "## Data Background\n",
        "The data we selected is a compilation of 5574 SMS messages acquired from a variety of different sources, broken down in the following way: 452 of the messages came from the Grumbletext Web Site, 3375 of the messages were taken from the NUS SMS Corpus (database with legitimate message from the University of Singapore), 450 messages collected from Caroline Tag's PhD Thesis, and the last 1324 messages were from *the* SMS Spam Corpus v.0.1 Big. \n",
        "\n",
        "Overall there were 4827 \"ham\" messages and 747 \"spam\" messages, and about 92,000 words.\n",
        "\n",
        "## Purpose\n",
        "This data was collected initially for studies on deciphering the differences between a spam or ham (legitimate) messages. Uses for this research can involve advanced spam filtering technology or improved data sets for machine learning programs. However, a slight problem with this data set, as with most localized language-based data sets, is that due to the relatively small area of sampling, there are a lot of regional data points (such as slang, acronyms, etc) that can be considering \"useless\" data if a much more generalized data set is wanted. \n",
        "\n",
        "This notebook ignores this shortcoming in order to analyze different model architectures.\n",
        "___"
      ]
    },
    {
      "cell_type": "markdown",
      "metadata": {
        "collapsed": true,
        "deletable": true,
        "editable": true,
        "id": "N3ig9bRqlXh6",
        "colab_type": "text"
      },
      "source": [
        "## Preparation"
      ]
    },
    {
      "cell_type": "code",
      "metadata": {
        "deletable": true,
        "editable": true,
        "id": "NLuCp7UvlXh7",
        "colab_type": "code",
        "colab": {}
      },
      "source": [
        "import pandas as pd\n",
        "import numpy as np\n",
        "import requests\n",
        "import re\n",
        "from sklearn.feature_extraction.text import CountVectorizer, TfidfVectorizer\n",
        "import matplotlib.pyplot as plt\n",
        "import warnings\n",
        "warnings.filterwarnings(\"ignore\")\n",
        "%matplotlib inline\n",
        "\n",
        "descriptors_url = 'https://raw.githubusercontent.com/LukeWood/SpamVsHamDataAnalysis/master/data/SMSSpamCollection'\n",
        "descriptors = requests.get(descriptors_url).text\n",
        "texts = []\n",
        "\n",
        "\n",
        "for line in descriptors.splitlines():\n",
        "    texts.append(line.rstrip().split(\"\\t\"))"
      ],
      "execution_count": null,
      "outputs": []
    },
    {
      "cell_type": "code",
      "metadata": {
        "id": "8SJMzNUblrpS",
        "colab_type": "code",
        "colab": {
          "base_uri": "https://localhost:8080/",
          "height": 136
        },
        "outputId": "76e56bc0-b711-46fd-fa4b-0e8a2366a8a7"
      },
      "source": [
        "texts[:5]"
      ],
      "execution_count": null,
      "outputs": [
        {
          "output_type": "execute_result",
          "data": {
            "text/plain": [
              "[['ham',\n",
              "  'Go until jurong point, crazy.. Available only in bugis n great world la e buffet... Cine there got amore wat...'],\n",
              " ['ham', 'Ok lar... Joking wif u oni...'],\n",
              " ['spam',\n",
              "  \"Free entry in 2 a wkly comp to win FA Cup final tkts 21st May 2005. Text FA to 87121 to receive entry question(std txt rate)T&C's apply 08452810075over18's\"],\n",
              " ['ham', 'U dun say so early hor... U c already then say...'],\n",
              " ['ham', \"Nah I don't think he goes to usf, he lives around here though\"]]"
            ]
          },
          "metadata": {
            "tags": []
          },
          "execution_count": 2
        }
      ]
    },
    {
      "cell_type": "markdown",
      "metadata": {
        "deletable": true,
        "editable": true,
        "id": "OX0wQilKlXh-",
        "colab_type": "text"
      },
      "source": [
        "After the first look at the data we noticed a lot of phone numbers. Since almost every number was unique we concluded that the numbers were irrelevant to consider as words. We considered grouping all number tokens into one token and analyze the presence of words, but we decided to first start by just removing the numbers."
      ]
    },
    {
      "cell_type": "code",
      "metadata": {
        "deletable": true,
        "editable": true,
        "id": "OU44Qi2FlXh_",
        "colab_type": "code",
        "colab": {}
      },
      "source": [
        "# Remove numbers\n",
        "texts = list(zip([a for a,b in texts], [re.sub('((\\(\\d{3}\\) ?)|(\\d{3}-))?\\d{3}-\\d', 'PHONE_NUMBER', b) for a,b in texts]))"
      ],
      "execution_count": null,
      "outputs": []
    },
    {
      "cell_type": "markdown",
      "metadata": {
        "deletable": true,
        "editable": true,
        "id": "oZlh0s1olXiB",
        "colab_type": "text"
      },
      "source": [
        "Citation: regex from google search top results/stack overflow"
      ]
    },
    {
      "cell_type": "code",
      "metadata": {
        "deletable": true,
        "editable": true,
        "id": "xzA2SbRblXiC",
        "colab_type": "code",
        "colab": {}
      },
      "source": [
        "import numpy as np\n",
        "from keras.preprocessing import sequence"
      ],
      "execution_count": null,
      "outputs": []
    },
    {
      "cell_type": "code",
      "metadata": {
        "deletable": true,
        "editable": true,
        "id": "CkE6WToqlXiF",
        "colab_type": "code",
        "colab": {
          "base_uri": "https://localhost:8080/",
          "height": 34
        },
        "outputId": "a2f6a9c6-4d4b-452c-fb22-2ce75fd0bd6c"
      },
      "source": [
        "X = [x[1] for x in texts]\n",
        "y = [x[0] for x in texts]\n",
        "X = np.array(X)\n",
        "print(type(X))"
      ],
      "execution_count": null,
      "outputs": [
        {
          "output_type": "stream",
          "text": [
            "<class 'numpy.ndarray'>\n"
          ],
          "name": "stdout"
        }
      ]
    },
    {
      "cell_type": "code",
      "metadata": {
        "deletable": true,
        "editable": true,
        "id": "BlnLL6p0lXiH",
        "colab_type": "code",
        "colab": {
          "base_uri": "https://localhost:8080/",
          "height": 136
        },
        "outputId": "2826aef1-73dd-47e3-d032-a50e94171c1f"
      },
      "source": [
        "import keras\n",
        "y = [0 if y_ == \"spam\" else 1 for y_ in y]\n",
        "y_ohe = keras.utils.to_categorical(y)\n",
        "y_ohe"
      ],
      "execution_count": null,
      "outputs": [
        {
          "output_type": "execute_result",
          "data": {
            "text/plain": [
              "array([[0., 1.],\n",
              "       [0., 1.],\n",
              "       [1., 0.],\n",
              "       ...,\n",
              "       [0., 1.],\n",
              "       [0., 1.],\n",
              "       [0., 1.]], dtype=float32)"
            ]
          },
          "metadata": {
            "tags": []
          },
          "execution_count": 6
        }
      ]
    },
    {
      "cell_type": "markdown",
      "metadata": {
        "deletable": true,
        "editable": true,
        "id": "wdX1a9CwlXiJ",
        "colab_type": "text"
      },
      "source": [
        "We assign spam as a value of 0 and ham as a value of one so that we can use precision score to measure false positive scores."
      ]
    },
    {
      "cell_type": "code",
      "metadata": {
        "deletable": true,
        "editable": true,
        "id": "45BQ-A0PlXiK",
        "colab_type": "code",
        "colab": {}
      },
      "source": [
        "import keras\n",
        "from keras.preprocessing.text import Tokenizer\n",
        "from keras.preprocessing.sequence import pad_sequences\n",
        "\n",
        "NUM_TOP_WORDS = None\n",
        "\n",
        "tokenizer = Tokenizer(num_words=NUM_TOP_WORDS)\n",
        "tokenizer.fit_on_texts(X)\n",
        "word_index = tokenizer.word_index\n",
        "\n",
        "sequences = tokenizer.texts_to_sequences(X)\n",
        "sequences = pad_sequences(sequences)\n",
        "\n",
        "MAX_TEXT_LEN = len(sequences[0]) # maximum and minimum number of words"
      ],
      "execution_count": null,
      "outputs": []
    },
    {
      "cell_type": "markdown",
      "metadata": {
        "deletable": true,
        "editable": true,
        "id": "CrwrABEqlXiM",
        "colab_type": "text"
      },
      "source": [
        "We tokenize and measure the max length of the text using keras' tokenizer."
      ]
    },
    {
      "cell_type": "markdown",
      "metadata": {
        "deletable": true,
        "editable": true,
        "id": "GyQl5i-qlXiN",
        "colab_type": "text"
      },
      "source": [
        "### Cross Validation Method"
      ]
    },
    {
      "cell_type": "markdown",
      "metadata": {
        "deletable": true,
        "editable": true,
        "id": "bNpiD4ujlXiN",
        "colab_type": "text"
      },
      "source": [
        "We now have an embedding matrix for our word index.\n",
        "\n",
        "Finally, we split our data into training data and testing data.  We stratify the data on y_ohe to ensure that we get a fair representation of the spam and ham messages.  We believe this to be appropriate because each model needs to see a fair number of both spam messages and ham messages to ensure it does not overtrain on either."
      ]
    },
    {
      "cell_type": "code",
      "metadata": {
        "deletable": true,
        "editable": true,
        "id": "Zfn2MaKxlXiN",
        "colab_type": "code",
        "colab": {
          "base_uri": "https://localhost:8080/",
          "height": 34
        },
        "outputId": "ad2f7d5d-a8fc-4dfa-a952-17f7c7925cfb"
      },
      "source": [
        "from sklearn.model_selection import train_test_split\n",
        "# Split it into train / test subsets\n",
        "X_train, X_test, y_train_ohe, y_test_ohe = train_test_split(sequences, y_ohe, test_size=0.2,\n",
        "                                                            stratify=y_ohe, \n",
        "                                                            random_state=42)\n",
        "NUM_CLASSES = len(y_train_ohe[0])\n",
        "NUM_CLASSES"
      ],
      "execution_count": null,
      "outputs": [
        {
          "output_type": "execute_result",
          "data": {
            "text/plain": [
              "2"
            ]
          },
          "metadata": {
            "tags": []
          },
          "execution_count": 8
        }
      ]
    },
    {
      "cell_type": "markdown",
      "metadata": {
        "deletable": true,
        "editable": true,
        "id": "oOk8yAG7lXiP",
        "colab_type": "text"
      },
      "source": [
        "### Evaluation Metrics\n",
        "For a spam filter the largest cost should be false positives.  It would be incredibly frustrating to have a real text filtered out.  Due to this models are evaluated in accordance to this.  To evaluate false positives as a loss function, we must implement a precision score metric which has been removed from keras.  Luckily, the old code is available in a one of keras' old versions."
      ]
    },
    {
      "cell_type": "code",
      "metadata": {
        "deletable": true,
        "editable": true,
        "id": "38MEFtWylXiQ",
        "colab_type": "code",
        "colab": {}
      },
      "source": [
        "# Old version of keras had precision score, copied the code to re-implement it.\n",
        "import keras.backend as K\n",
        "def precision(y_true, y_pred):\n",
        "    true_positives = K.sum(K.round(K.clip(y_true * y_pred, 0, 1)))\n",
        "    predicted_positives = K.sum(K.round(K.clip(y_pred, 0, 1)))\n",
        "    precision = true_positives / (predicted_positives + K.epsilon())\n",
        "    return precision"
      ],
      "execution_count": null,
      "outputs": []
    },
    {
      "cell_type": "markdown",
      "metadata": {
        "deletable": true,
        "editable": true,
        "id": "N5EOowpHlXiS",
        "colab_type": "text"
      },
      "source": [
        "## Modeling\n",
        "To avoid the need for training our own embedding layer which is incredibly computationally expensive, we load up a pretrained [GloVe](https://nlp.stanford.edu/projects/glove/) embedding.\n",
        "\n",
        "[You can read more about GloVe embeddings here](https://nlp.stanford.edu/projects/glove/)\n",
        " \n",
        "**Warning: this is a big download**"
      ]
    },
    {
      "cell_type": "code",
      "metadata": {
        "id": "uUj2bHaAnKPl",
        "colab_type": "code",
        "colab": {
          "base_uri": "https://localhost:8080/",
          "height": 68
        },
        "outputId": "1966aa0f-7259-4cd1-9da7-112525a42471"
      },
      "source": [
        "import time\n",
        "import zipfile\n",
        "from os import path\n",
        "import os\n",
        "import sys\n",
        "from urllib.request import urlretrieve\n",
        "appdata = path.expanduser(path.join(\"~\", \".glove\"))\n",
        "if not path.isdir(appdata):\n",
        "    os.mkdir(appdata)\n",
        "    \n",
        "GLOVE_DL = \"http://nlp.stanford.edu/data/glove.6B.zip\"\n",
        "FNAMES = \"glove.6B.%dd.txt\" % 100\n",
        "\n",
        "def reporthook(count, block_size, total_size):\n",
        "    global start_time\n",
        "    if count == 0:\n",
        "        start_time = time.time()\n",
        "        return\n",
        "    duration = time.time() - start_time\n",
        "    progress_size = int(count * block_size)\n",
        "    speed = int(progress_size / (1024 * duration))\n",
        "    percent = int(count * block_size * 100 / total_size)\n",
        "    sys.stdout.write(\"\\r...%d%%, %d MB, %d KB/s, %d seconds passed\" %\n",
        "            (percent, progress_size / (1024 * 1024), speed, duration))\n",
        "    sys.stdout.flush()\n",
        "\n",
        "# Download embeddings if neccesary\n",
        "def download_embeddings():\n",
        "    if not path.exists(path.join(appdata,\".downloaded\")):\n",
        "        print(\"Downloading pre-trained glove embeddings to %s\" % (appdata))\n",
        "        url = \"http://nlp.stanford.edu/data/glove.6B.zip\"\n",
        "        urlretrieve(url, os.path.join(appdata, \"glove.6B.zip\"), reporthook)\n",
        "\n",
        "        print(\"Unzipping glove embeddings.\")\n",
        "        zip_ref = zipfile.ZipFile(path.join(appdata,\"glove.6B.zip\"))\n",
        "        zip_ref.extractall(appdata)\n",
        "        zip_ref.close()\n",
        "\n",
        "        print(\"Unzipping Complete: \",os.listdir(appdata),\"were downloaded\")\n",
        "        open(path.join(appdata,\".downloaded\"),\"a\").close()\n",
        "    else:\n",
        "        print(\"Embedding files not found, but download directory already exists\")\n",
        "\n",
        "download_embeddings()"
      ],
      "execution_count": null,
      "outputs": [
        {
          "output_type": "stream",
          "text": [
            "Downloading pre-trained glove embeddings to /root/.glove\n",
            "...100%, 822 MB, 2151 KB/s, 391 seconds passedUnzipping glove embeddings.\n",
            "Unzipping Complete:  ['glove.6B.300d.txt', 'glove.6B.100d.txt', 'glove.6B.200d.txt', 'glove.6B.50d.txt', 'glove.6B.zip'] were downloaded\n"
          ],
          "name": "stdout"
        }
      ]
    },
    {
      "cell_type": "markdown",
      "metadata": {
        "id": "O0cVCgiUKVPv",
        "colab_type": "text"
      },
      "source": [
        "We load the values from the GloVe embedding into a numpy matrix.  This allows us to lookup the embedded values for a work easily."
      ]
    },
    {
      "cell_type": "code",
      "metadata": {
        "id": "KqbInsXpLnLi",
        "colab_type": "code",
        "colab": {
          "base_uri": "https://localhost:8080/",
          "height": 51
        },
        "outputId": "85bc17f2-444d-4aaa-b0e9-8e5be7de13bf"
      },
      "source": [
        "!ls /root/.glove"
      ],
      "execution_count": null,
      "outputs": [
        {
          "output_type": "stream",
          "text": [
            "glove.6B.100d.txt  glove.6B.300d.txt  glove.6B.zip\n",
            "glove.6B.200d.txt  glove.6B.50d.txt\n"
          ],
          "name": "stdout"
        }
      ]
    },
    {
      "cell_type": "code",
      "metadata": {
        "deletable": true,
        "editable": true,
        "id": "O_UyVT8GlXiT",
        "colab_type": "code",
        "colab": {
          "base_uri": "https://localhost:8080/",
          "height": 51
        },
        "outputId": "e7dba2e1-5c75-49f5-f9cd-3b250b44a1f3"
      },
      "source": [
        "EMBED_SIZE = 100\n",
        "# the embed size should match the file you load glove from\n",
        "embeddings_index = {}\n",
        "f = open(path.join(appdata, 'glove.6B.100d.txt'), 'r')\n",
        "# save key/array pairs of the embeddings\n",
        "#  the key of the dictionary is the word, the array is the embedding\n",
        "for line in f:\n",
        "    values = line.split()\n",
        "    word = values[0]\n",
        "    coefs = np.asarray(values[1:], dtype='float32')\n",
        "    embeddings_index[word] = coefs\n",
        "f.close()\n",
        "\n",
        "print('Found %s word vectors.' % len(embeddings_index))\n",
        "\n",
        "# now fill in the matrix, using the ordering from the\n",
        "#  keras word tokenizer from before\n",
        "embedding_matrix = np.zeros((len(word_index) + 1, EMBED_SIZE))\n",
        "for word, i in word_index.items():\n",
        "    embedding_vector = embeddings_index.get(word)\n",
        "    if embedding_vector is not None:\n",
        "        # words not found in embedding index will be all-zeros.\n",
        "        embedding_matrix[i] = embedding_vector\n",
        "\n",
        "print(embedding_matrix.shape)"
      ],
      "execution_count": null,
      "outputs": [
        {
          "output_type": "stream",
          "text": [
            "Found 400000 word vectors.\n",
            "(9008, 100)\n"
          ],
          "name": "stdout"
        }
      ]
    },
    {
      "cell_type": "markdown",
      "metadata": {
        "id": "AfV6t9YuKe58",
        "colab_type": "text"
      },
      "source": [
        "Next we load these into a untrainable [keras Embedding layer](https://keras.io/api/layers/core_layers/embedding/)."
      ]
    },
    {
      "cell_type": "code",
      "metadata": {
        "deletable": true,
        "editable": true,
        "id": "WeTVwkd6lXiV",
        "colab_type": "code",
        "colab": {
          "base_uri": "https://localhost:8080/",
          "height": 34
        },
        "outputId": "ca3f7cbe-6e59-4036-89ed-50842e3325b6"
      },
      "source": [
        "from keras.layers import Embedding\n",
        "\n",
        "embedding_layer = Embedding(len(word_index) + 1,\n",
        "                            EMBED_SIZE,\n",
        "                            weights=[embedding_matrix],\n",
        "                            input_length=MAX_TEXT_LEN,\n",
        "                            trainable=False)\n",
        "embedding_layer"
      ],
      "execution_count": null,
      "outputs": [
        {
          "output_type": "execute_result",
          "data": {
            "text/plain": [
              "<tensorflow.python.keras.layers.embeddings.Embedding at 0x7f95c7b2ebe0>"
            ]
          },
          "metadata": {
            "tags": []
          },
          "execution_count": 13
        }
      ]
    },
    {
      "cell_type": "markdown",
      "metadata": {
        "id": "RhA5lw1GKspm",
        "colab_type": "text"
      },
      "source": [
        "Finally we put it all together into a small neural net with an LSTM layer and a Dense layer."
      ]
    },
    {
      "cell_type": "code",
      "metadata": {
        "deletable": true,
        "editable": true,
        "id": "ORRa07EYlXiX",
        "colab_type": "code",
        "colab": {
          "base_uri": "https://localhost:8080/",
          "height": 309
        },
        "outputId": "cbce8450-a41d-46c7-ed76-65c123fb50a5"
      },
      "source": [
        "from keras.models import Sequential\n",
        "from keras.layers import Dense\n",
        "from keras.layers import LSTM\n",
        "\n",
        "metrics=[precision,\"accuracy\"]\n",
        "\n",
        "rnn = Sequential()\n",
        "rnn.add(embedding_layer)\n",
        "rnn.add(LSTM(100,dropout=0.2, recurrent_dropout=0.2))\n",
        "rnn.add(Dense(NUM_CLASSES, activation='sigmoid'))\n",
        "rnn.compile(loss='categorical_crossentropy', \n",
        "              optimizer='rmsprop', \n",
        "              metrics=metrics)\n",
        "print(rnn.summary())"
      ],
      "execution_count": null,
      "outputs": [
        {
          "output_type": "stream",
          "text": [
            "WARNING:tensorflow:Layer lstm will not use cuDNN kernel since it doesn't meet the cuDNN kernel criteria. It will use generic GPU kernel as fallback when running on GPU\n",
            "Model: \"sequential\"\n",
            "_________________________________________________________________\n",
            "Layer (type)                 Output Shape              Param #   \n",
            "=================================================================\n",
            "embedding (Embedding)        (None, 189, 100)          900800    \n",
            "_________________________________________________________________\n",
            "lstm (LSTM)                  (None, 100)               80400     \n",
            "_________________________________________________________________\n",
            "dense (Dense)                (None, 2)                 202       \n",
            "=================================================================\n",
            "Total params: 981,402\n",
            "Trainable params: 80,602\n",
            "Non-trainable params: 900,800\n",
            "_________________________________________________________________\n",
            "None\n"
          ],
          "name": "stdout"
        }
      ]
    },
    {
      "cell_type": "code",
      "metadata": {
        "id": "Uinnf5SaLELn",
        "colab_type": "code",
        "colab": {
          "base_uri": "https://localhost:8080/",
          "height": 422
        },
        "outputId": "b6710023-5a90-48e3-c73e-36814b5393e8"
      },
      "source": [
        "from IPython.display import Image\n",
        "keras.utils.plot_model(rnn, \"rnn_model.png\", show_shapes=True)\n",
        "Image(filename=\"rnn_model.png\")"
      ],
      "execution_count": null,
      "outputs": [
        {
          "output_type": "execute_result",
          "data": {
            "image/png": "[encoded data removed]",
            "text/plain": [
              "<IPython.core.display.Image object>"
            ]
          },
          "metadata": {
            "tags": []
          },
          "execution_count": 15
        }
      ]
    },
    {
      "cell_type": "code",
      "metadata": {
        "deletable": true,
        "editable": true,
        "id": "QagIGpwplXiZ",
        "colab_type": "code",
        "colab": {
          "base_uri": "https://localhost:8080/",
          "height": 156
        },
        "outputId": "d0f45ab7-4bc1-4ec6-a6fe-ffc028cb6f32"
      },
      "source": [
        "rnn.fit(X_train, y_train_ohe, validation_data=(X_test, y_test_ohe), epochs=3, batch_size=64)"
      ],
      "execution_count": null,
      "outputs": [
        {
          "output_type": "stream",
          "text": [
            "Epoch 1/3\n",
            "70/70 [==============================] - 42s 601ms/step - loss: 0.1780 - precision: 0.9531 - accuracy: 0.9388 - val_loss: 0.0856 - val_precision: 0.9881 - val_accuracy: 0.9713\n",
            "Epoch 2/3\n",
            "70/70 [==============================] - 41s 589ms/step - loss: 0.0971 - precision: 0.9841 - accuracy: 0.9682 - val_loss: 0.0689 - val_precision: 0.9866 - val_accuracy: 0.9776\n",
            "Epoch 3/3\n",
            "70/70 [==============================] - 41s 587ms/step - loss: 0.0790 - precision: 0.9870 - accuracy: 0.9729 - val_loss: 0.0586 - val_precision: 0.9902 - val_accuracy: 0.9785\n"
          ],
          "name": "stdout"
        },
        {
          "output_type": "execute_result",
          "data": {
            "text/plain": [
              "<tensorflow.python.keras.callbacks.History at 0x7f95b00725f8>"
            ]
          },
          "metadata": {
            "tags": []
          },
          "execution_count": 16
        }
      ]
    },
    {
      "cell_type": "markdown",
      "metadata": {
        "id": "eyxrvdjjL9ug",
        "colab_type": "text"
      },
      "source": [
        "Our model gets around a 97% accuracy and 99% precision score.  This is fantastic right off the bat - but we can do better."
      ]
    },
    {
      "cell_type": "markdown",
      "metadata": {
        "deletable": true,
        "editable": true,
        "id": "fY86bMEmlXib",
        "colab_type": "text"
      },
      "source": [
        "### Comparing Different Models"
      ]
    },
    {
      "cell_type": "markdown",
      "metadata": {
        "deletable": true,
        "editable": true,
        "id": "f63d3fWllXib",
        "colab_type": "text"
      },
      "source": [
        "To begin, we will evaluate a network using an LSTM cell, a GRU cell, and a SimpleRNN cell.  We will use a standard hyperparameter set to evaluate the results and decide which two architectures we want to explore in depth based on the results."
      ]
    },
    {
      "cell_type": "code",
      "metadata": {
        "deletable": true,
        "editable": true,
        "id": "imV_kti1lXib",
        "colab_type": "code",
        "colab": {
          "base_uri": "https://localhost:8080/",
          "height": 71
        },
        "outputId": "7bae57db-5a62-4c90-b03d-3ff76b9b21c2"
      },
      "source": [
        "from keras.layers import LSTM, GRU, SimpleRNN\n",
        "\n",
        "rnns = []\n",
        "\n",
        "for func in [SimpleRNN, LSTM, GRU]:\n",
        "    rnn = Sequential()\n",
        "    rnn.add(embedding_layer)\n",
        "    rnn.add(func(100,dropout=0.2, recurrent_dropout=0.2))\n",
        "    rnn.add(Dense(NUM_CLASSES, activation='sigmoid'))\n",
        "\n",
        "    rnn.compile(loss='categorical_crossentropy', \n",
        "                  optimizer='rmsprop', \n",
        "                  metrics=metrics)\n",
        "    rnns.append(rnn)"
      ],
      "execution_count": null,
      "outputs": [
        {
          "output_type": "stream",
          "text": [
            "WARNING:tensorflow:Layer lstm_1 will not use cuDNN kernel since it doesn't meet the cuDNN kernel criteria. It will use generic GPU kernel as fallback when running on GPU\n",
            "WARNING:tensorflow:Layer gru will not use cuDNN kernel since it doesn't meet the cuDNN kernel criteria. It will use generic GPU kernel as fallback when running on GPU\n"
          ],
          "name": "stdout"
        }
      ]
    },
    {
      "cell_type": "code",
      "metadata": {
        "deletable": true,
        "editable": true,
        "id": "CnyE7ekDlXid",
        "colab_type": "code",
        "colab": {
          "base_uri": "https://localhost:8080/",
          "height": 445
        },
        "outputId": "e40570c9-e1fc-4382-d97e-d0bbea60abe0"
      },
      "source": [
        "for rnn, name in zip(rnns,['simple','lstm','gru']):\n",
        "    print('\\nTesting Cell Type: ',name,'========')\n",
        "    rnn.fit(X_train, y_train_ohe, epochs=3, batch_size=64, validation_data=(X_test, y_test_ohe))"
      ],
      "execution_count": null,
      "outputs": [
        {
          "output_type": "stream",
          "text": [
            "\n",
            "Testing Cell Type:  simple ========\n",
            "Epoch 1/3\n",
            "70/70 [==============================] - 13s 180ms/step - loss: 0.2958 - precision: 0.8776 - accuracy: 0.8838 - val_loss: 0.1481 - val_precision: 0.9404 - val_accuracy: 0.9498\n",
            "Epoch 2/3\n",
            "70/70 [==============================] - 12s 176ms/step - loss: 0.1726 - precision: 0.9351 - accuracy: 0.9368 - val_loss: 0.1959 - val_precision: 0.9232 - val_accuracy: 0.9184\n",
            "Epoch 3/3\n",
            "70/70 [==============================] - 12s 177ms/step - loss: 0.1557 - precision: 0.9512 - accuracy: 0.9484 - val_loss: 0.1431 - val_precision: 0.9489 - val_accuracy: 0.9363\n",
            "\n",
            "Testing Cell Type:  lstm ========\n",
            "Epoch 1/3\n",
            "70/70 [==============================] - 42s 603ms/step - loss: 0.1893 - precision: 0.9508 - accuracy: 0.9271 - val_loss: 0.1276 - val_precision: 0.9889 - val_accuracy: 0.9570\n",
            "Epoch 2/3\n",
            "70/70 [==============================] - 42s 597ms/step - loss: 0.0961 - precision: 0.9910 - accuracy: 0.9661 - val_loss: 0.1039 - val_precision: 0.9840 - val_accuracy: 0.9677\n",
            "Epoch 3/3\n",
            "70/70 [==============================] - 42s 593ms/step - loss: 0.0765 - precision: 0.9926 - accuracy: 0.9773 - val_loss: 0.0703 - val_precision: 0.9911 - val_accuracy: 0.9803\n",
            "\n",
            "Testing Cell Type:  gru ========\n",
            "Epoch 1/3\n",
            "70/70 [==============================] - 39s 563ms/step - loss: 0.1984 - precision: 0.9523 - accuracy: 0.9215 - val_loss: 0.0856 - val_precision: 0.9958 - val_accuracy: 0.9740\n",
            "Epoch 2/3\n",
            "70/70 [==============================] - 39s 562ms/step - loss: 0.0846 - precision: 0.9944 - accuracy: 0.9726 - val_loss: 0.0981 - val_precision: 0.9908 - val_accuracy: 0.9695\n",
            "Epoch 3/3\n",
            "70/70 [==============================] - 40s 566ms/step - loss: 0.0765 - precision: 0.9958 - accuracy: 0.9762 - val_loss: 0.0573 - val_precision: 0.9953 - val_accuracy: 0.9812\n"
          ],
          "name": "stdout"
        }
      ]
    },
    {
      "cell_type": "markdown",
      "metadata": {
        "deletable": true,
        "editable": true,
        "id": "erCbPXtLlXig",
        "colab_type": "text"
      },
      "source": [
        "As we can see, the GRU model performs the best by a large margin.  If we continue to train the GRU model it seems that we will get some really great results.  We will try also try to find the best hyperparameters for the GRU model.\n",
        "\n",
        "After we find the best GRU results we will use an LSTM and then measure the results of the LSTM."
      ]
    },
    {
      "cell_type": "markdown",
      "metadata": {
        "deletable": true,
        "editable": true,
        "id": "NIT57D_DlXig",
        "colab_type": "text"
      },
      "source": [
        "### Gridsearch on GRU Model"
      ]
    },
    {
      "cell_type": "code",
      "metadata": {
        "deletable": true,
        "editable": true,
        "id": "60LiQnlxlXig",
        "colab_type": "code",
        "colab": {
          "base_uri": "https://localhost:8080/",
          "height": 1000
        },
        "outputId": "eeb1d536-64ac-4b5e-f044-6e1fb317a49a"
      },
      "source": [
        "dropouts=[.1,.2,.3]\n",
        "recurrent_dropouts=[.1,.2,.3]\n",
        "\n",
        "for dropout in dropouts:\n",
        "    for recurrent_dropout in recurrent_dropouts:\n",
        "        rnn = Sequential()\n",
        "        rnn.add(embedding_layer)\n",
        "        rnn.add(func(100,dropout=dropout, recurrent_dropout=recurrent_dropout))\n",
        "        rnn.add(Dense(NUM_CLASSES, activation='sigmoid'))\n",
        "\n",
        "        rnn.compile(loss='categorical_crossentropy', \n",
        "                      optimizer='rmsprop', \n",
        "                      metrics=metrics)\n",
        "        print(\"Hyper Paramater Set:\\n\\tdropout=%.1f\\n\\trecurrent_dropout=%.1f\\n\" % (dropout,recurrent_dropout))\n",
        "        rnn.fit(X_train,y_train_ohe,epochs=3, batch_size=64, validation_data=(X_test,y_test_ohe))\n",
        "        print(\"\\n\")"
      ],
      "execution_count": null,
      "outputs": [
        {
          "output_type": "stream",
          "text": [
            "WARNING:tensorflow:Layer gru_6 will not use cuDNN kernel since it doesn't meet the cuDNN kernel criteria. It will use generic GPU kernel as fallback when running on GPU\n",
            "Hyper Paramater Set:\n",
            "\tdropout=0.1\n",
            "\trecurrent_dropout=0.1\n",
            "\n",
            "Epoch 1/3\n",
            "70/70 [==============================] - 41s 582ms/step - loss: 0.1952 - precision: 0.9578 - accuracy: 0.9267 - val_loss: 0.1102 - val_precision: 0.9923 - val_accuracy: 0.9641\n",
            "Epoch 2/3\n",
            "70/70 [==============================] - 41s 581ms/step - loss: 0.0850 - precision: 0.9947 - accuracy: 0.9724 - val_loss: 0.0668 - val_precision: 0.9961 - val_accuracy: 0.9803\n",
            "Epoch 3/3\n",
            "70/70 [==============================] - 41s 579ms/step - loss: 0.0693 - precision: 0.9957 - accuracy: 0.9778 - val_loss: 0.0643 - val_precision: 0.9935 - val_accuracy: 0.9794\n",
            "\n",
            "\n",
            "WARNING:tensorflow:Layer gru_7 will not use cuDNN kernel since it doesn't meet the cuDNN kernel criteria. It will use generic GPU kernel as fallback when running on GPU\n",
            "Hyper Paramater Set:\n",
            "\tdropout=0.1\n",
            "\trecurrent_dropout=0.2\n",
            "\n",
            "Epoch 1/3\n",
            "70/70 [==============================] - 41s 592ms/step - loss: 0.1986 - precision: 0.9523 - accuracy: 0.9213 - val_loss: 0.0854 - val_precision: 0.9905 - val_accuracy: 0.9731\n",
            "Epoch 2/3\n",
            "70/70 [==============================] - 41s 588ms/step - loss: 0.0917 - precision: 0.9907 - accuracy: 0.9717 - val_loss: 0.1513 - val_precision: 0.9867 - val_accuracy: 0.9444\n",
            "Epoch 3/3\n",
            "70/70 [==============================] - 41s 581ms/step - loss: 0.0722 - precision: 0.9939 - accuracy: 0.9771 - val_loss: 0.0560 - val_precision: 0.9934 - val_accuracy: 0.9812\n",
            "\n",
            "\n",
            "WARNING:tensorflow:Layer gru_8 will not use cuDNN kernel since it doesn't meet the cuDNN kernel criteria. It will use generic GPU kernel as fallback when running on GPU\n",
            "Hyper Paramater Set:\n",
            "\tdropout=0.1\n",
            "\trecurrent_dropout=0.3\n",
            "\n",
            "Epoch 1/3\n",
            "70/70 [==============================] - 42s 599ms/step - loss: 0.1918 - precision: 0.9522 - accuracy: 0.9336 - val_loss: 0.0790 - val_precision: 0.9896 - val_accuracy: 0.9767\n",
            "Epoch 2/3\n",
            "70/70 [==============================] - 41s 581ms/step - loss: 0.0901 - precision: 0.9884 - accuracy: 0.9711 - val_loss: 0.0753 - val_precision: 0.9891 - val_accuracy: 0.9740\n",
            "Epoch 3/3\n",
            "70/70 [==============================] - 41s 584ms/step - loss: 0.0707 - precision: 0.9906 - accuracy: 0.9760 - val_loss: 0.0604 - val_precision: 0.9892 - val_accuracy: 0.9785\n",
            "\n",
            "\n",
            "WARNING:tensorflow:Layer gru_9 will not use cuDNN kernel since it doesn't meet the cuDNN kernel criteria. It will use generic GPU kernel as fallback when running on GPU\n",
            "Hyper Paramater Set:\n",
            "\tdropout=0.2\n",
            "\trecurrent_dropout=0.1\n",
            "\n",
            "Epoch 1/3\n",
            "70/70 [==============================] - 41s 591ms/step - loss: 0.2219 - precision: 0.9489 - accuracy: 0.9101 - val_loss: 0.0837 - val_precision: 0.9959 - val_accuracy: 0.9767\n",
            "Epoch 2/3\n",
            "70/70 [==============================] - 41s 589ms/step - loss: 0.0952 - precision: 0.9973 - accuracy: 0.9675 - val_loss: 0.0705 - val_precision: 0.9968 - val_accuracy: 0.9776\n",
            "Epoch 3/3\n",
            "70/70 [==============================] - 41s 586ms/step - loss: 0.0735 - precision: 0.9955 - accuracy: 0.9773 - val_loss: 0.0635 - val_precision: 0.9968 - val_accuracy: 0.9821\n",
            "\n",
            "\n",
            "WARNING:tensorflow:Layer gru_10 will not use cuDNN kernel since it doesn't meet the cuDNN kernel criteria. It will use generic GPU kernel as fallback when running on GPU\n",
            "Hyper Paramater Set:\n",
            "\tdropout=0.2\n",
            "\trecurrent_dropout=0.2\n",
            "\n",
            "Epoch 1/3\n",
            "70/70 [==============================] - 42s 596ms/step - loss: 0.2170 - precision: 0.9336 - accuracy: 0.9116 - val_loss: 0.0875 - val_precision: 0.9923 - val_accuracy: 0.9677\n",
            "Epoch 2/3\n",
            "70/70 [==============================] - 41s 591ms/step - loss: 0.0827 - precision: 0.9913 - accuracy: 0.9762 - val_loss: 0.1339 - val_precision: 0.9821 - val_accuracy: 0.9561\n",
            "Epoch 3/3\n",
            "70/70 [==============================] - 42s 596ms/step - loss: 0.0730 - precision: 0.9919 - accuracy: 0.9765 - val_loss: 0.0628 - val_precision: 0.9918 - val_accuracy: 0.9785\n",
            "\n",
            "\n",
            "WARNING:tensorflow:Layer gru_11 will not use cuDNN kernel since it doesn't meet the cuDNN kernel criteria. It will use generic GPU kernel as fallback when running on GPU\n",
            "Hyper Paramater Set:\n",
            "\tdropout=0.2\n",
            "\trecurrent_dropout=0.3\n",
            "\n",
            "Epoch 1/3\n",
            "70/70 [==============================] - 41s 589ms/step - loss: 0.1930 - precision: 0.9464 - accuracy: 0.9269 - val_loss: 0.0821 - val_precision: 0.9896 - val_accuracy: 0.9704\n",
            "Epoch 2/3\n",
            "70/70 [==============================] - 41s 589ms/step - loss: 0.0870 - precision: 0.9908 - accuracy: 0.9726 - val_loss: 0.0685 - val_precision: 0.9916 - val_accuracy: 0.9767\n",
            "Epoch 3/3\n",
            "70/70 [==============================] - 41s 584ms/step - loss: 0.0740 - precision: 0.9915 - accuracy: 0.9771 - val_loss: 0.0567 - val_precision: 0.9934 - val_accuracy: 0.9812\n",
            "\n",
            "\n",
            "WARNING:tensorflow:Layer gru_12 will not use cuDNN kernel since it doesn't meet the cuDNN kernel criteria. It will use generic GPU kernel as fallback when running on GPU\n",
            "Hyper Paramater Set:\n",
            "\tdropout=0.3\n",
            "\trecurrent_dropout=0.1\n",
            "\n",
            "Epoch 1/3\n",
            "70/70 [==============================] - 42s 595ms/step - loss: 0.2099 - precision: 0.9435 - accuracy: 0.9190 - val_loss: 0.0883 - val_precision: 0.9904 - val_accuracy: 0.9731\n",
            "Epoch 2/3\n",
            "70/70 [==============================] - 41s 582ms/step - loss: 0.0936 - precision: 0.9894 - accuracy: 0.9713 - val_loss: 0.0691 - val_precision: 0.9917 - val_accuracy: 0.9785\n",
            "Epoch 3/3\n",
            "70/70 [==============================] - 41s 586ms/step - loss: 0.0752 - precision: 0.9914 - accuracy: 0.9729 - val_loss: 0.0605 - val_precision: 0.9935 - val_accuracy: 0.9830\n",
            "\n",
            "\n",
            "WARNING:tensorflow:Layer gru_13 will not use cuDNN kernel since it doesn't meet the cuDNN kernel criteria. It will use generic GPU kernel as fallback when running on GPU\n",
            "Hyper Paramater Set:\n",
            "\tdropout=0.3\n",
            "\trecurrent_dropout=0.2\n",
            "\n",
            "Epoch 1/3\n",
            "70/70 [==============================] - 42s 600ms/step - loss: 0.2025 - precision: 0.9512 - accuracy: 0.9258 - val_loss: 0.0780 - val_precision: 0.9952 - val_accuracy: 0.9740\n",
            "Epoch 2/3\n",
            "70/70 [==============================] - 41s 584ms/step - loss: 0.0946 - precision: 0.9913 - accuracy: 0.9695 - val_loss: 0.0701 - val_precision: 0.9924 - val_accuracy: 0.9776\n",
            "Epoch 3/3\n",
            "70/70 [==============================] - 41s 591ms/step - loss: 0.0731 - precision: 0.9949 - accuracy: 0.9747 - val_loss: 0.0805 - val_precision: 0.9931 - val_accuracy: 0.9731\n",
            "\n",
            "\n",
            "WARNING:tensorflow:Layer gru_14 will not use cuDNN kernel since it doesn't meet the cuDNN kernel criteria. It will use generic GPU kernel as fallback when running on GPU\n",
            "Hyper Paramater Set:\n",
            "\tdropout=0.3\n",
            "\trecurrent_dropout=0.3\n",
            "\n",
            "Epoch 1/3\n",
            "70/70 [==============================] - 42s 595ms/step - loss: 0.2219 - precision: 0.9472 - accuracy: 0.9107 - val_loss: 0.1096 - val_precision: 0.9955 - val_accuracy: 0.9570\n",
            "Epoch 2/3\n",
            "70/70 [==============================] - 42s 593ms/step - loss: 0.0947 - precision: 0.9922 - accuracy: 0.9699 - val_loss: 0.1005 - val_precision: 0.9914 - val_accuracy: 0.9641\n",
            "Epoch 3/3\n",
            "70/70 [==============================] - 42s 598ms/step - loss: 0.0831 - precision: 0.9932 - accuracy: 0.9731 - val_loss: 0.0695 - val_precision: 0.9953 - val_accuracy: 0.9794\n",
            "\n",
            "\n"
          ],
          "name": "stdout"
        }
      ]
    },
    {
      "cell_type": "markdown",
      "metadata": {
        "deletable": true,
        "editable": true,
        "id": "WrM8HBZTlXii",
        "colab_type": "text"
      },
      "source": [
        "###### We get some pretty ridiculously high accuracy with both of our hyperparameters set to .1"
      ]
    },
    {
      "cell_type": "markdown",
      "metadata": {
        "deletable": true,
        "editable": true,
        "id": "E7cMp23qlXii",
        "colab_type": "text"
      },
      "source": [
        "As we can see, with dropout and recurrent dropout at .1 we get some really great results; with accuracy getting as high as 98.6%.  This is ridiculously high.  The model gets .997 precision and .98 accuracy on the validation set with these hyperparameters.\n",
        "\n",
        "We actually get a similar precision score in a few sets of hyperparameters, but we get a higher accuracy with the .1 and .1 set so this is our most effective model."
      ]
    },
    {
      "cell_type": "code",
      "metadata": {
        "deletable": true,
        "editable": true,
        "id": "hRw3zMA8lXii",
        "colab_type": "code",
        "colab": {
          "base_uri": "https://localhost:8080/",
          "height": 54
        },
        "outputId": "744dea44-655b-471a-e40f-ff1817a59bc3"
      },
      "source": [
        "best_model = Sequential()\n",
        "best_model.add(embedding_layer)\n",
        "best_model.add(GRU(100,dropout=.1, recurrent_dropout=.1))\n",
        "best_model.add(Dense(NUM_CLASSES, activation='sigmoid'))\n",
        "best_model.compile(loss='categorical_crossentropy', \n",
        "                      optimizer='rmsprop', \n",
        "                      metrics=metrics)"
      ],
      "execution_count": null,
      "outputs": [
        {
          "output_type": "stream",
          "text": [
            "WARNING:tensorflow:Layer gru_15 will not use cuDNN kernel since it doesn't meet the cuDNN kernel criteria. It will use generic GPU kernel as fallback when running on GPU\n"
          ],
          "name": "stdout"
        }
      ]
    },
    {
      "cell_type": "markdown",
      "metadata": {
        "deletable": true,
        "editable": true,
        "id": "brmUPxIAlXik",
        "colab_type": "text"
      },
      "source": [
        "### Training the Best Model With More Epochs"
      ]
    },
    {
      "cell_type": "code",
      "metadata": {
        "deletable": true,
        "editable": true,
        "id": "mnEy6I0BlXik",
        "colab_type": "code",
        "colab": {
          "base_uri": "https://localhost:8080/",
          "height": 394
        },
        "outputId": "bf3c662b-19c3-4c2d-9347-6d8b3be3636b"
      },
      "source": [
        "best_model.fit(X_train,y_train_ohe,epochs=10, batch_size=64, validation_data=(X_test,y_test_ohe))"
      ],
      "execution_count": null,
      "outputs": [
        {
          "output_type": "stream",
          "text": [
            "Epoch 1/10\n",
            "70/70 [==============================] - 42s 599ms/step - loss: 0.1949 - precision: 0.9484 - accuracy: 0.9229 - val_loss: 0.1437 - val_precision: 0.9810 - val_accuracy: 0.9480\n",
            "Epoch 2/10\n",
            "70/70 [==============================] - 42s 594ms/step - loss: 0.0891 - precision: 0.9935 - accuracy: 0.9711 - val_loss: 0.0660 - val_precision: 0.9942 - val_accuracy: 0.9803\n",
            "Epoch 3/10\n",
            "70/70 [==============================] - 41s 591ms/step - loss: 0.0729 - precision: 0.9934 - accuracy: 0.9758 - val_loss: 0.0543 - val_precision: 0.9927 - val_accuracy: 0.9830\n",
            "Epoch 4/10\n",
            "70/70 [==============================] - 41s 587ms/step - loss: 0.0615 - precision: 0.9941 - accuracy: 0.9791 - val_loss: 0.0560 - val_precision: 0.9936 - val_accuracy: 0.9776\n",
            "Epoch 5/10\n",
            "70/70 [==============================] - 41s 591ms/step - loss: 0.0507 - precision: 0.9953 - accuracy: 0.9852 - val_loss: 0.0464 - val_precision: 0.9953 - val_accuracy: 0.9848\n",
            "Epoch 6/10\n",
            "70/70 [==============================] - 41s 586ms/step - loss: 0.0427 - precision: 0.9967 - accuracy: 0.9865 - val_loss: 0.0440 - val_precision: 0.9945 - val_accuracy: 0.9874\n",
            "Epoch 7/10\n",
            "70/70 [==============================] - 42s 598ms/step - loss: 0.0358 - precision: 0.9967 - accuracy: 0.9910 - val_loss: 0.0386 - val_precision: 0.9955 - val_accuracy: 0.9892\n",
            "Epoch 8/10\n",
            "70/70 [==============================] - 41s 587ms/step - loss: 0.0320 - precision: 0.9976 - accuracy: 0.9897 - val_loss: 0.0382 - val_precision: 0.9962 - val_accuracy: 0.9883\n",
            "Epoch 9/10\n",
            "70/70 [==============================] - 42s 594ms/step - loss: 0.0271 - precision: 0.9972 - accuracy: 0.9930 - val_loss: 0.0535 - val_precision: 0.9937 - val_accuracy: 0.9821\n",
            "Epoch 10/10\n",
            "70/70 [==============================] - 41s 590ms/step - loss: 0.0258 - precision: 0.9967 - accuracy: 0.9933 - val_loss: 0.0395 - val_precision: 0.9954 - val_accuracy: 0.9901\n"
          ],
          "name": "stdout"
        },
        {
          "output_type": "execute_result",
          "data": {
            "text/plain": [
              "<tensorflow.python.keras.callbacks.History at 0x7f953af1de10>"
            ]
          },
          "metadata": {
            "tags": []
          },
          "execution_count": 22
        }
      ]
    },
    {
      "cell_type": "markdown",
      "metadata": {
        "deletable": true,
        "editable": true,
        "id": "ZV9uEjnulXim",
        "colab_type": "text"
      },
      "source": [
        "###### We end up getting above 99.5% accuracy and a precision score of .9986 on the validation set!  We could absolutely use this to publish a spam filter.  This is a very good score on this dataset - within a tenth of a percent of state of the art on both metrics"
      ]
    },
    {
      "cell_type": "markdown",
      "metadata": {
        "deletable": true,
        "editable": true,
        "id": "soTkpDexlXim",
        "colab_type": "text"
      },
      "source": [
        "### Grid Search Using LSTM"
      ]
    },
    {
      "cell_type": "markdown",
      "metadata": {
        "deletable": true,
        "editable": true,
        "id": "6UGXNFBwlXim",
        "colab_type": "text"
      },
      "source": [
        "Now that we know we can get results as high as 99.5% accuracy and 99.8% precision with the GRU network we will try to see how high we can get our LSTM's score."
      ]
    },
    {
      "cell_type": "code",
      "metadata": {
        "deletable": true,
        "editable": true,
        "scrolled": true,
        "id": "Z8VVj2jklXin",
        "colab_type": "code",
        "colab": {
          "base_uri": "https://localhost:8080/",
          "height": 1000
        },
        "outputId": "00cbc897-5622-4f5c-ad44-be38b2b4ea2f"
      },
      "source": [
        "dropouts=[.1,.2,.3]\n",
        "recurrent_dropouts=[.1,.2,.3]\n",
        "\n",
        "for dropout in dropouts:\n",
        "    for recurrent_dropout in recurrent_dropouts:\n",
        "        rnn = Sequential()\n",
        "        rnn.add(embedding_layer)\n",
        "        rnn.add(LSTM(100,dropout=dropout, recurrent_dropout=recurrent_dropout))\n",
        "        rnn.add(Dense(NUM_CLASSES, activation='sigmoid'))\n",
        "\n",
        "        rnn.compile(loss='categorical_crossentropy', \n",
        "                      optimizer='rmsprop', \n",
        "                      metrics=metrics)\n",
        "        print(\"Hyper Paramater Set:\\n\\tdropout=%.1f\\n\\trecurrent_dropout=%.1f\" % (dropout,recurrent_dropout))\n",
        "        rnn.fit(X_train,y_train_ohe,epochs=3, batch_size=64, validation_data=(X_test,y_test_ohe))\n",
        "        print(\"\\n\")"
      ],
      "execution_count": null,
      "outputs": [
        {
          "output_type": "stream",
          "text": [
            "WARNING:tensorflow:Layer lstm_2 will not use cuDNN kernel since it doesn't meet the cuDNN kernel criteria. It will use generic GPU kernel as fallback when running on GPU\n",
            "Hyper Paramater Set:\n",
            "\tdropout=0.1\n",
            "\trecurrent_dropout=0.1\n",
            "Epoch 1/3\n",
            "70/70 [==============================] - 46s 652ms/step - loss: 0.1780 - precision: 0.9755 - accuracy: 0.9383 - val_loss: 0.0878 - val_precision: 0.9966 - val_accuracy: 0.9758\n",
            "Epoch 2/3\n",
            "70/70 [==============================] - 46s 651ms/step - loss: 0.0946 - precision: 0.9920 - accuracy: 0.9699 - val_loss: 0.0777 - val_precision: 0.9969 - val_accuracy: 0.9749\n",
            "Epoch 3/3\n",
            "70/70 [==============================] - 45s 649ms/step - loss: 0.0730 - precision: 0.9963 - accuracy: 0.9747 - val_loss: 0.0612 - val_precision: 0.9960 - val_accuracy: 0.9758\n",
            "\n",
            "\n",
            "WARNING:tensorflow:Layer lstm_3 will not use cuDNN kernel since it doesn't meet the cuDNN kernel criteria. It will use generic GPU kernel as fallback when running on GPU\n",
            "Hyper Paramater Set:\n",
            "\tdropout=0.1\n",
            "\trecurrent_dropout=0.2\n",
            "Epoch 1/3\n",
            "70/70 [==============================] - 46s 650ms/step - loss: 0.1828 - precision: 0.9588 - accuracy: 0.9341 - val_loss: 0.0954 - val_precision: 0.9912 - val_accuracy: 0.9686\n",
            "Epoch 2/3\n",
            "70/70 [==============================] - 45s 637ms/step - loss: 0.0978 - precision: 0.9889 - accuracy: 0.9655 - val_loss: 0.0741 - val_precision: 0.9923 - val_accuracy: 0.9740\n",
            "Epoch 3/3\n",
            "70/70 [==============================] - 46s 652ms/step - loss: 0.0737 - precision: 0.9910 - accuracy: 0.9747 - val_loss: 0.1193 - val_precision: 0.9773 - val_accuracy: 0.9623\n",
            "\n",
            "\n",
            "WARNING:tensorflow:Layer lstm_4 will not use cuDNN kernel since it doesn't meet the cuDNN kernel criteria. It will use generic GPU kernel as fallback when running on GPU\n",
            "Hyper Paramater Set:\n",
            "\tdropout=0.1\n",
            "\trecurrent_dropout=0.3\n",
            "Epoch 1/3\n",
            "70/70 [==============================] - 45s 644ms/step - loss: 0.1607 - precision: 0.9680 - accuracy: 0.9468 - val_loss: 0.1085 - val_precision: 0.9815 - val_accuracy: 0.9596\n",
            "Epoch 2/3\n",
            "70/70 [==============================] - 45s 639ms/step - loss: 0.0892 - precision: 0.9883 - accuracy: 0.9704 - val_loss: 0.0652 - val_precision: 0.9909 - val_accuracy: 0.9767\n",
            "Epoch 3/3\n",
            "70/70 [==============================] - 45s 641ms/step - loss: 0.0752 - precision: 0.9900 - accuracy: 0.9753 - val_loss: 0.0912 - val_precision: 0.9896 - val_accuracy: 0.9659\n",
            "\n",
            "\n",
            "WARNING:tensorflow:Layer lstm_5 will not use cuDNN kernel since it doesn't meet the cuDNN kernel criteria. It will use generic GPU kernel as fallback when running on GPU\n",
            "Hyper Paramater Set:\n",
            "\tdropout=0.2\n",
            "\trecurrent_dropout=0.1\n",
            "Epoch 1/3\n",
            "70/70 [==============================] - 45s 643ms/step - loss: 0.1734 - precision: 0.9674 - accuracy: 0.9363 - val_loss: 0.0795 - val_precision: 0.9931 - val_accuracy: 0.9758\n",
            "Epoch 2/3\n",
            "70/70 [==============================] - 45s 638ms/step - loss: 0.0883 - precision: 0.9920 - accuracy: 0.9695 - val_loss: 0.0750 - val_precision: 0.9954 - val_accuracy: 0.9740\n",
            "Epoch 3/3\n",
            "70/70 [==============================] - 45s 641ms/step - loss: 0.0731 - precision: 0.9933 - accuracy: 0.9762 - val_loss: 0.0583 - val_precision: 0.9916 - val_accuracy: 0.9839\n",
            "\n",
            "\n",
            "WARNING:tensorflow:Layer lstm_6 will not use cuDNN kernel since it doesn't meet the cuDNN kernel criteria. It will use generic GPU kernel as fallback when running on GPU\n",
            "Hyper Paramater Set:\n",
            "\tdropout=0.2\n",
            "\trecurrent_dropout=0.2\n",
            "Epoch 1/3\n",
            "70/70 [==============================] - 46s 654ms/step - loss: 0.1703 - precision: 0.9669 - accuracy: 0.9426 - val_loss: 0.1057 - val_precision: 0.9859 - val_accuracy: 0.9632\n",
            "Epoch 2/3\n",
            "70/70 [==============================] - 45s 644ms/step - loss: 0.0951 - precision: 0.9887 - accuracy: 0.9675 - val_loss: 0.0891 - val_precision: 0.9882 - val_accuracy: 0.9713\n",
            "Epoch 3/3\n",
            "70/70 [==============================] - 45s 650ms/step - loss: 0.0770 - precision: 0.9918 - accuracy: 0.9742 - val_loss: 0.0625 - val_precision: 0.9916 - val_accuracy: 0.9794\n",
            "\n",
            "\n",
            "WARNING:tensorflow:Layer lstm_7 will not use cuDNN kernel since it doesn't meet the cuDNN kernel criteria. It will use generic GPU kernel as fallback when running on GPU\n",
            "Hyper Paramater Set:\n",
            "\tdropout=0.2\n",
            "\trecurrent_dropout=0.3\n",
            "Epoch 1/3\n",
            "70/70 [==============================] - 46s 652ms/step - loss: 0.1751 - precision: 0.9612 - accuracy: 0.9347 - val_loss: 0.0836 - val_precision: 0.9922 - val_accuracy: 0.9731\n",
            "Epoch 2/3\n",
            "70/70 [==============================] - 46s 651ms/step - loss: 0.0989 - precision: 0.9874 - accuracy: 0.9670 - val_loss: 0.0849 - val_precision: 0.9908 - val_accuracy: 0.9668\n",
            "Epoch 3/3\n",
            "70/70 [==============================] - 45s 647ms/step - loss: 0.0789 - precision: 0.9909 - accuracy: 0.9724 - val_loss: 0.0678 - val_precision: 0.9926 - val_accuracy: 0.9749\n",
            "\n",
            "\n",
            "WARNING:tensorflow:Layer lstm_8 will not use cuDNN kernel since it doesn't meet the cuDNN kernel criteria. It will use generic GPU kernel as fallback when running on GPU\n",
            "Hyper Paramater Set:\n",
            "\tdropout=0.3\n",
            "\trecurrent_dropout=0.1\n",
            "Epoch 1/3\n",
            "70/70 [==============================] - 46s 651ms/step - loss: 0.1786 - precision: 0.9756 - accuracy: 0.9433 - val_loss: 0.0931 - val_precision: 0.9945 - val_accuracy: 0.9686\n",
            "Epoch 2/3\n",
            "70/70 [==============================] - 45s 642ms/step - loss: 0.0955 - precision: 0.9922 - accuracy: 0.9664 - val_loss: 0.0775 - val_precision: 0.9951 - val_accuracy: 0.9722\n",
            "Epoch 3/3\n",
            "70/70 [==============================] - 45s 642ms/step - loss: 0.0791 - precision: 0.9936 - accuracy: 0.9753 - val_loss: 0.0679 - val_precision: 0.9939 - val_accuracy: 0.9785\n",
            "\n",
            "\n",
            "WARNING:tensorflow:Layer lstm_9 will not use cuDNN kernel since it doesn't meet the cuDNN kernel criteria. It will use generic GPU kernel as fallback when running on GPU\n",
            "Hyper Paramater Set:\n",
            "\tdropout=0.3\n",
            "\trecurrent_dropout=0.2\n",
            "Epoch 1/3\n",
            "70/70 [==============================] - 46s 653ms/step - loss: 0.1887 - precision: 0.9612 - accuracy: 0.9368 - val_loss: 0.0858 - val_precision: 0.9942 - val_accuracy: 0.9749\n",
            "Epoch 2/3\n",
            "70/70 [==============================] - 45s 649ms/step - loss: 0.0942 - precision: 0.9905 - accuracy: 0.9688 - val_loss: 0.0651 - val_precision: 0.9917 - val_accuracy: 0.9821\n",
            "Epoch 3/3\n",
            "70/70 [==============================] - 45s 649ms/step - loss: 0.0813 - precision: 0.9924 - accuracy: 0.9733 - val_loss: 0.0685 - val_precision: 0.9960 - val_accuracy: 0.9749\n",
            "\n",
            "\n",
            "WARNING:tensorflow:Layer lstm_10 will not use cuDNN kernel since it doesn't meet the cuDNN kernel criteria. It will use generic GPU kernel as fallback when running on GPU\n",
            "Hyper Paramater Set:\n",
            "\tdropout=0.3\n",
            "\trecurrent_dropout=0.3\n",
            "Epoch 1/3\n",
            "70/70 [==============================] - 46s 659ms/step - loss: 0.1813 - precision: 0.9675 - accuracy: 0.9381 - val_loss: 0.0883 - val_precision: 0.9941 - val_accuracy: 0.9722\n",
            "Epoch 2/3\n",
            "70/70 [==============================] - 46s 662ms/step - loss: 0.1010 - precision: 0.9931 - accuracy: 0.9657 - val_loss: 0.0987 - val_precision: 0.9937 - val_accuracy: 0.9659\n",
            "Epoch 3/3\n",
            "70/70 [==============================] - 45s 646ms/step - loss: 0.0816 - precision: 0.9935 - accuracy: 0.9744 - val_loss: 0.0680 - val_precision: 0.9943 - val_accuracy: 0.9758\n",
            "\n",
            "\n"
          ],
          "name": "stdout"
        }
      ]
    },
    {
      "cell_type": "markdown",
      "metadata": {
        "deletable": true,
        "editable": true,
        "id": "j3J74MLJlXip",
        "colab_type": "text"
      },
      "source": [
        "###### As we can see, our best LSTM hyper parameter set is with a dropout of .1 and a recurrent dropout of .2.  We will create this network and train it with more epochs."
      ]
    },
    {
      "cell_type": "code",
      "metadata": {
        "deletable": true,
        "editable": true,
        "id": "Sy_C3IrblXip",
        "colab_type": "code",
        "colab": {
          "base_uri": "https://localhost:8080/",
          "height": 54
        },
        "outputId": "bf39506b-6558-4104-86c4-e82b5b1fc38f"
      },
      "source": [
        "best_lstm = Sequential()\n",
        "best_lstm.add(embedding_layer)\n",
        "best_lstm.add(LSTM(100,dropout=.1, recurrent_dropout=.2))\n",
        "best_lstm.add(Dense(NUM_CLASSES, activation='sigmoid'))\n",
        "best_lstm.compile(loss='categorical_crossentropy', \n",
        "                      optimizer='rmsprop', \n",
        "                      metrics=metrics)"
      ],
      "execution_count": null,
      "outputs": [
        {
          "output_type": "stream",
          "text": [
            "WARNING:tensorflow:Layer lstm_12 will not use cuDNN kernel since it doesn't meet the cuDNN kernel criteria. It will use generic GPU kernel as fallback when running on GPU\n"
          ],
          "name": "stdout"
        }
      ]
    },
    {
      "cell_type": "markdown",
      "metadata": {
        "deletable": true,
        "editable": true,
        "id": "nVwCF6MjlXir",
        "colab_type": "text"
      },
      "source": [
        "### Comparison of models"
      ]
    },
    {
      "cell_type": "code",
      "metadata": {
        "deletable": true,
        "editable": true,
        "id": "D6pIxJBqlXis",
        "colab_type": "code",
        "colab": {
          "base_uri": "https://localhost:8080/",
          "height": 408
        },
        "outputId": "5205bc1d-c6e9-4210-8527-9101e4c3c208"
      },
      "source": [
        "%%time\n",
        "\n",
        "from sklearn.model_selection import StratifiedShuffleSplit\n",
        "from sklearn.metrics import confusion_matrix, precision_score\n",
        "\n",
        "sss = StratifiedShuffleSplit(n_splits=3)\n",
        "\n",
        "gru_scores = []\n",
        "gru_cms = []\n",
        "lstm_scores = []\n",
        "lstm_cms = []\n",
        "\n",
        "split_num = 1\n",
        "for train_index, test_index in sss.split(sequences, y_ohe):\n",
        "    print('Split #{}'.format(split_num))\n",
        "    split_num += 1\n",
        "    X_train, X_test = sequences[train_index], sequences[test_index]\n",
        "    y_train_ohe, y_test_ohe = y_ohe[train_index], y_ohe[test_index]\n",
        "    \n",
        "    # one hot decode for scoring\n",
        "    y_test = [list(x).index(1.0) for x in list(y_test_ohe)] \n",
        "    \n",
        "    best_model.fit(X_train,y_train_ohe,epochs=3,\n",
        "                   batch_size=64,validation_data=(X_train,y_train_ohe),verbose=0)\n",
        "    y_hat = best_model.predict(X_test)\n",
        "    \n",
        "    # one hot decode for scoring\n",
        "    y_hat = np.array([[0,1] if np.argmax(x) == 1 else [1,0] for x in y_hat]).astype(float)\n",
        "    y_hat = [list(x).index(1.0) for x in list(y_hat)]\n",
        "    \n",
        "    gru_scores.append(precision_score(y_test, y_hat))\n",
        "    gru_cms.append(confusion_matrix(y_test, y_hat))\n",
        "    \n",
        "    print(gru_scores[-1])\n",
        "    print(gru_cms[-1])\n",
        "    \n",
        "    best_lstm.fit(X_train,y_train_ohe,epochs=3,\n",
        "                   batch_size=64,validation_data=(X_train,y_train_ohe),verbose=0)\n",
        "    y_hat = best_lstm.predict(X_test)\n",
        "    \n",
        "    # one hot decode for scoring\n",
        "    y_hat = np.array([[0,1] if np.argmax(x) == 1 else [1,0] for x in y_hat]).astype(float)\n",
        "    y_hat = [list(x).index(1.0) for x in list(y_hat)]\n",
        "    \n",
        "    lstm_scores.append(precision_score(y_test, y_hat))\n",
        "    lstm_cms.append(confusion_matrix(y_test, y_hat))\n",
        "    \n",
        "    print(lstm_scores[-1])\n",
        "    print(lstm_cms[-1])"
      ],
      "execution_count": null,
      "outputs": [
        {
          "output_type": "stream",
          "text": [
            "Split #1\n",
            "0.9979296066252588\n",
            "[[ 74   1]\n",
            " [  1 482]]\n",
            "0.989648033126294\n",
            "[[ 70   5]\n",
            " [  5 478]]\n",
            "Split #2\n",
            "0.9938271604938271\n",
            "[[ 72   3]\n",
            " [  0 483]]\n",
            "0.9877300613496932\n",
            "[[ 69   6]\n",
            " [  0 483]]\n",
            "Split #3\n",
            "1.0\n",
            "[[ 75   0]\n",
            " [  0 483]]\n",
            "0.9897540983606558\n",
            "[[ 70   5]\n",
            " [  0 483]]\n",
            "CPU times: user 22min 4s, sys: 3min 6s, total: 25min 10s\n",
            "Wall time: 15min 34s\n"
          ],
          "name": "stdout"
        }
      ]
    },
    {
      "cell_type": "code",
      "metadata": {
        "deletable": true,
        "editable": true,
        "id": "7k3QdXPBlXit",
        "colab_type": "code",
        "colab": {
          "base_uri": "https://localhost:8080/",
          "height": 297
        },
        "outputId": "aaf64cd2-b71d-458a-99e8-3b4f062db313"
      },
      "source": [
        "# Plot bar graphs\n",
        "bar_width = 0.20\n",
        "index = np.arange(3)\n",
        "opacity=0.4\n",
        "\n",
        "plt.bar(index, gru_scores, bar_width, align='center',\n",
        "        color='b', label='GRU', alpha=opacity)\n",
        "plt.bar(index + bar_width, lstm_scores, bar_width,\n",
        "        align='center', color='r', label='LSTM', alpha=opacity)\n",
        "plt.title('GRU vs LSTM (precision score)')\n",
        "\n",
        "plt.legend()\n",
        "plt.tight_layout()\n",
        "plt.show()"
      ],
      "execution_count": null,
      "outputs": [
        {
          "output_type": "display_data",
          "data": {
            "image/png": "[encoded data removed]",
            "text/plain": [
              "<Figure size 432x288 with 1 Axes>"
            ]
          },
          "metadata": {
            "tags": [],
            "needs_background": "light"
          }
        }
      ]
    },
    {
      "cell_type": "markdown",
      "metadata": {
        "deletable": true,
        "editable": true,
        "id": "JlZe_WT6lXiv",
        "colab_type": "text"
      },
      "source": [
        "Both models perform extremely well, however the GRU model performed just a bit better.\n",
        "   \n",
        "By looking at heatmaps of the confusion matrices we can get a more granular look into how our models classify each class."
      ]
    },
    {
      "cell_type": "code",
      "metadata": {
        "deletable": true,
        "editable": true,
        "id": "gOJVcJw9lXiv",
        "colab_type": "code",
        "colab": {
          "base_uri": "https://localhost:8080/",
          "height": 298
        },
        "outputId": "62b1f1ac-7c4b-4148-b500-0cbd462608a0"
      },
      "source": [
        "# Plot heatmap\n",
        "import seaborn as sns\n",
        "labels = ['Spam', 'Ham']\n",
        "gru_cm_avg = np.zeros((2,2))\n",
        "for cm in gru_cms:\n",
        "    # turn cm into percentages\n",
        "    totals = np.repeat(np.sum(cm, axis=1), 2, axis=0).reshape(2,2)\n",
        "    cm_ = cm / totals / 3\n",
        "    gru_cm_avg = np.sum([gru_cm_avg, cm_], axis=0)\n",
        "    \n",
        "sns.heatmap(gru_cm_avg, annot=True, xticklabels=labels, yticklabels=labels)\n",
        "plt.title('Heatmap of GRU')"
      ],
      "execution_count": null,
      "outputs": [
        {
          "output_type": "execute_result",
          "data": {
            "text/plain": [
              "Text(0.5, 1.0, 'Heatmap of GRU')"
            ]
          },
          "metadata": {
            "tags": []
          },
          "execution_count": 29
        },
        {
          "output_type": "display_data",
          "data": {
            "image/png": "[encoded data removed]",
            "text/plain": [
              "<Figure size 432x288 with 2 Axes>"
            ]
          },
          "metadata": {
            "tags": [],
            "needs_background": "light"
          }
        }
      ]
    },
    {
      "cell_type": "code",
      "metadata": {
        "deletable": true,
        "editable": true,
        "id": "jVUvn-uJlXix",
        "colab_type": "code",
        "colab": {
          "base_uri": "https://localhost:8080/",
          "height": 298
        },
        "outputId": "0e49713e-aafe-4368-94b4-2c06d32ffcf0"
      },
      "source": [
        "# Plot heatmap\n",
        "lstm_cm_avg = np.zeros((2,2))\n",
        "for cm in lstm_cms:\n",
        "    # turn cm into percentages\n",
        "    totals = np.repeat(np.sum(cm, axis=1), 2, axis=0).reshape(2,2)\n",
        "    cm_ = cm / totals / 3\n",
        "    lstm_cm_avg = np.sum([lstm_cm_avg, cm_], axis=0)\n",
        "    \n",
        "sns.heatmap(lstm_cm_avg, annot=True, xticklabels=labels, yticklabels=labels)\n",
        "plt.title('Heatmap of lstm')"
      ],
      "execution_count": null,
      "outputs": [
        {
          "output_type": "execute_result",
          "data": {
            "text/plain": [
              "Text(0.5, 1.0, 'Heatmap of lstm')"
            ]
          },
          "metadata": {
            "tags": []
          },
          "execution_count": 30
        },
        {
          "output_type": "display_data",
          "data": {
            "image/png": "[encoded data removed]",
            "text/plain": [
              "<Figure size 432x288 with 2 Axes>"
            ]
          },
          "metadata": {
            "tags": [],
            "needs_background": "light"
          }
        }
      ]
    },
    {
      "cell_type": "markdown",
      "metadata": {
        "deletable": true,
        "editable": true,
        "id": "8L67B7DklXiy",
        "colab_type": "text"
      },
      "source": [
        "From the heatmaps we can see that ham gets classified nearly perfectly using both models, however our GRU model scores much better than the LSTM when classifying spam instances."
      ]
    },
    {
      "cell_type": "markdown",
      "metadata": {
        "deletable": true,
        "editable": true,
        "id": "3fvUpMQilXiz",
        "colab_type": "text"
      },
      "source": [
        "## NLTK tokenize vs keras tokenizer"
      ]
    },
    {
      "cell_type": "code",
      "metadata": {
        "id": "kHyeUKgQkgtq",
        "colab_type": "code",
        "colab": {
          "base_uri": "https://localhost:8080/",
          "height": 71
        },
        "outputId": "54915df7-3158-47b4-c2ea-9a79432e8031"
      },
      "source": [
        "!pip install nltk"
      ],
      "execution_count": null,
      "outputs": [
        {
          "output_type": "stream",
          "text": [
            "Requirement already satisfied: nltk in /usr/local/lib/python3.6/dist-packages (3.2.5)\n",
            "Requirement already satisfied: six in /usr/local/lib/python3.6/dist-packages (from nltk) (1.15.0)\n"
          ],
          "name": "stdout"
        }
      ]
    },
    {
      "cell_type": "markdown",
      "metadata": {
        "deletable": true,
        "editable": true,
        "id": "Mo4r-GqolXiz",
        "colab_type": "text"
      },
      "source": [
        "We thought it could be interesting to compare the generalized NLTK tokenizer to the keras tokenizer.  We decided to compare them using basic LSTM networks."
      ]
    },
    {
      "cell_type": "code",
      "metadata": {
        "deletable": true,
        "editable": true,
        "id": "09W8Zyk2lXiz",
        "colab_type": "code",
        "colab": {
          "base_uri": "https://localhost:8080/",
          "height": 51
        },
        "outputId": "1b1bd749-8d70-4b34-c08b-c32d44e7c56c"
      },
      "source": [
        "import nltk\n",
        "nltk.download('punkt')\n",
        "from nltk.tokenize import word_tokenize\n",
        "X_nltk = [word_tokenize(x) for x in X]"
      ],
      "execution_count": null,
      "outputs": [
        {
          "output_type": "stream",
          "text": [
            "[nltk_data] Downloading package punkt to /root/nltk_data...\n",
            "[nltk_data]   Unzipping tokenizers/punkt.zip.\n"
          ],
          "name": "stdout"
        }
      ]
    },
    {
      "cell_type": "code",
      "metadata": {
        "deletable": true,
        "editable": true,
        "id": "o8USTZNXlXi1",
        "colab_type": "code",
        "colab": {}
      },
      "source": [
        "encoder = {}\n",
        "counter = 0\n",
        "def encode_sentence(seq):\n",
        "    global encoder, counter\n",
        "    fseq = []\n",
        "    for x in seq:\n",
        "        if x not in encoder:\n",
        "            encoder[x] = counter\n",
        "            counter+=1\n",
        "        fseq.append(encoder[x])\n",
        "    return fseq\n",
        "\n",
        "X_nltk = [encode_sentence(x) for x in X]\n",
        "X_nltk = pad_sequences(X_nltk, maxlen=None)"
      ],
      "execution_count": null,
      "outputs": []
    },
    {
      "cell_type": "code",
      "metadata": {
        "deletable": true,
        "editable": true,
        "id": "m8GxzeO9lXi2",
        "colab_type": "code",
        "colab": {}
      },
      "source": [
        "embedding_layer = Embedding(len(word_index) + 1,\n",
        "                            EMBED_SIZE,\n",
        "                            weights=[embedding_matrix],\n",
        "                            input_length=len(X_nltk[0]),\n",
        "                            trainable=False)"
      ],
      "execution_count": null,
      "outputs": []
    },
    {
      "cell_type": "code",
      "metadata": {
        "deletable": true,
        "editable": true,
        "scrolled": true,
        "id": "f78hkwsulXi4",
        "colab_type": "code",
        "colab": {
          "base_uri": "https://localhost:8080/",
          "height": 309
        },
        "outputId": "a09258bf-f3f1-414c-b687-75d55d4de5a5"
      },
      "source": [
        "rnn = Sequential()\n",
        "rnn.add(embedding_layer)\n",
        "rnn.add(LSTM(100,dropout=0.2, recurrent_dropout=0.2))\n",
        "rnn.add(Dense(NUM_CLASSES, activation='sigmoid'))\n",
        "rnn.compile(loss='categorical_crossentropy', \n",
        "              optimizer='rmsprop', \n",
        "              metrics=metrics)\n",
        "print(rnn.summary())"
      ],
      "execution_count": null,
      "outputs": [
        {
          "output_type": "stream",
          "text": [
            "WARNING:tensorflow:Layer lstm_13 will not use cuDNN kernel since it doesn't meet the cuDNN kernel criteria. It will use generic GPU kernel as fallback when running on GPU\n",
            "Model: \"sequential_30\"\n",
            "_________________________________________________________________\n",
            "Layer (type)                 Output Shape              Param #   \n",
            "=================================================================\n",
            "embedding_1 (Embedding)      (None, 910, 100)          900800    \n",
            "_________________________________________________________________\n",
            "lstm_13 (LSTM)               (None, 100)               80400     \n",
            "_________________________________________________________________\n",
            "dense_30 (Dense)             (None, 2)                 202       \n",
            "=================================================================\n",
            "Total params: 981,402\n",
            "Trainable params: 80,602\n",
            "Non-trainable params: 900,800\n",
            "_________________________________________________________________\n",
            "None\n"
          ],
          "name": "stdout"
        }
      ]
    },
    {
      "cell_type": "code",
      "metadata": {
        "deletable": true,
        "editable": true,
        "id": "tjs7MBqZlXi6",
        "colab_type": "code",
        "colab": {}
      },
      "source": [
        "X_train, X_test, y_train_ohe, y_test_ohe = train_test_split(X_nltk, y_ohe, test_size=0.2,\n",
        "                                                            stratify=y_ohe, \n",
        "                                                            random_state=42)"
      ],
      "execution_count": null,
      "outputs": []
    },
    {
      "cell_type": "code",
      "metadata": {
        "deletable": true,
        "editable": true,
        "id": "P195J8UAlXi8",
        "colab_type": "code",
        "colab": {
          "base_uri": "https://localhost:8080/",
          "height": 156
        },
        "outputId": "73deafa3-ba4f-4154-95a9-04741c14f24c"
      },
      "source": [
        "rnn.fit(X_train, y_train_ohe, validation_data=(X_test, y_test_ohe), epochs=3, batch_size=64)"
      ],
      "execution_count": null,
      "outputs": [
        {
          "output_type": "stream",
          "text": [
            "Epoch 1/3\n",
            "70/70 [==============================] - 215s 3s/step - loss: 0.3229 - precision: 0.9038 - accuracy: 0.8829 - val_loss: 0.1771 - val_precision: 0.9716 - val_accuracy: 0.9462\n",
            "Epoch 2/3\n",
            "70/70 [==============================] - 214s 3s/step - loss: 0.2318 - precision: 0.9379 - accuracy: 0.9226 - val_loss: 0.1474 - val_precision: 0.9650 - val_accuracy: 0.9552\n",
            "Epoch 3/3\n",
            "70/70 [==============================] - 216s 3s/step - loss: 0.1912 - precision: 0.9454 - accuracy: 0.9381 - val_loss: 0.1315 - val_precision: 0.9627 - val_accuracy: 0.9587\n"
          ],
          "name": "stdout"
        },
        {
          "output_type": "execute_result",
          "data": {
            "text/plain": [
              "<tensorflow.python.keras.callbacks.History at 0x7f952acbdcf8>"
            ]
          },
          "metadata": {
            "tags": []
          },
          "execution_count": 39
        }
      ]
    },
    {
      "cell_type": "markdown",
      "metadata": {
        "id": "fhsBGWTkOKVi",
        "colab_type": "text"
      },
      "source": [
        "Unfortunately it's obvious that the built in keras tokenizer is leagues behind the GloVe embeddings."
      ]
    },
    {
      "cell_type": "markdown",
      "metadata": {
        "deletable": true,
        "editable": true,
        "id": "JJxG2od8lXjF",
        "colab_type": "text"
      },
      "source": [
        "# Conclusion\n",
        "Different RNN cell types can drastically impact the performance of an RNN.\n",
        "\n",
        "In the Spam vs Ham dataset GRU cells outperformed LSTM and Simple RNN cells.\n",
        "\n",
        "With sufficient data our models could be used for mass scale spam text detection."
      ]
    }
  ]
}