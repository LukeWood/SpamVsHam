{
  "nbformat": 4,
  "nbformat_minor": 0,
  "metadata": {
    "anaconda-cloud": {},
    "kernelspec": {
      "display_name": "Python 3",
      "language": "python",
      "name": "python3"
    },
    "language_info": {
      "codemirror_mode": {
        "name": "ipython",
        "version": 3
      },
      "file_extension": ".py",
      "mimetype": "text/x-python",
      "name": "python",
      "nbconvert_exporter": "python",
      "pygments_lexer": "ipython3",
      "version": "3.6.1"
    },
    "colab": {
      "name": "SpamVsHam.ipynb",
      "provenance": [],
      "collapsed_sections": [
        "nVwCF6MjlXir",
        "_-dqw4cQlXi9"
      ],
      "toc_visible": true
    },
    "accelerator": "GPU"
  },
  "cells": [
    {
      "cell_type": "markdown",
      "metadata": {
        "deletable": true,
        "editable": true,
        "id": "SqMq0daclXh2",
        "colab_type": "text"
      },
      "source": [
        "# Spam Text Classification\n",
        "## Spam or Ham"
      ]
    },
    {
      "cell_type": "markdown",
      "metadata": {
        "deletable": true,
        "editable": true,
        "id": "b9h013-LlXh5",
        "colab_type": "text"
      },
      "source": [
        "Luke Wood, Justin Ledford, Traian Pop \n",
        "___"
      ]
    },
    {
      "cell_type": "markdown",
      "metadata": {
        "deletable": true,
        "editable": true,
        "id": "kSbICxKHlXh6",
        "colab_type": "text"
      },
      "source": [
        "## Data Background\n",
        "The data we selected is a compilation of 5574 SMS messages acquired from a variety of different sources, broken down in the following way: 452 of the messages came from the Grumbletext Web Site, 3375 of the messages were taken from the NUS SMS Corpus (database with legitimate message from the University of Singapore), 450 messages collected from Caroline Tag's PhD Thesis, and the last 1324 messages were from *the* SMS Spam Corpus v.0.1 Big. \n",
        "\n",
        "Overall there were 4827 \"ham\" messages and 747 \"spam\" messages, and about 92,000 words.\n",
        "\n",
        "## Purpose\n",
        "This data was collected initially for studies on deciphering the differences between a spam or ham (legitimate) messages. Uses for this research can involve advanced spam filtering technology or improved data sets for machine learning programs. However, a slight problem with this data set, as with most localized language-based data sets, is that due to the relatively small area of sampling, there are a lot of regional data points (such as slang, acronyms, etc) that can be considering \"useless\" data if a much more generalized data set is wanted. \n",
        "\n",
        "This notebook ignores this shortcoming in order to analyze different model architectures.\n",
        "___"
      ]
    },
    {
      "cell_type": "markdown",
      "metadata": {
        "collapsed": true,
        "deletable": true,
        "editable": true,
        "id": "N3ig9bRqlXh6",
        "colab_type": "text"
      },
      "source": [
        "## Preparation"
      ]
    },
    {
      "cell_type": "code",
      "metadata": {
        "deletable": true,
        "editable": true,
        "id": "NLuCp7UvlXh7",
        "colab_type": "code",
        "colab": {}
      },
      "source": [
        "import pandas as pd\n",
        "import numpy as np\n",
        "import requests\n",
        "import re\n",
        "from sklearn.feature_extraction.text import CountVectorizer, TfidfVectorizer\n",
        "import matplotlib.pyplot as plt\n",
        "import warnings\n",
        "warnings.filterwarnings(\"ignore\")\n",
        "%matplotlib inline\n",
        "\n",
        "descriptors_url = 'https://raw.githubusercontent.com/LukeWood/SpamVsHamDataAnalysis/master/data/SMSSpamCollection'\n",
        "descriptors = requests.get(descriptors_url).text\n",
        "texts = []\n",
        "\n",
        "\n",
        "for line in descriptors.splitlines():\n",
        "    texts.append(line.rstrip().split(\"\\t\"))"
      ],
      "execution_count": 1,
      "outputs": []
    },
    {
      "cell_type": "code",
      "metadata": {
        "id": "8SJMzNUblrpS",
        "colab_type": "code",
        "colab": {
          "base_uri": "https://localhost:8080/",
          "height": 136
        },
        "outputId": "76e56bc0-b711-46fd-fa4b-0e8a2366a8a7"
      },
      "source": [
        "texts[:5]"
      ],
      "execution_count": 2,
      "outputs": [
        {
          "output_type": "execute_result",
          "data": {
            "text/plain": [
              "[['ham',\n",
              "  'Go until jurong point, crazy.. Available only in bugis n great world la e buffet... Cine there got amore wat...'],\n",
              " ['ham', 'Ok lar... Joking wif u oni...'],\n",
              " ['spam',\n",
              "  \"Free entry in 2 a wkly comp to win FA Cup final tkts 21st May 2005. Text FA to 87121 to receive entry question(std txt rate)T&C's apply 08452810075over18's\"],\n",
              " ['ham', 'U dun say so early hor... U c already then say...'],\n",
              " ['ham', \"Nah I don't think he goes to usf, he lives around here though\"]]"
            ]
          },
          "metadata": {
            "tags": []
          },
          "execution_count": 2
        }
      ]
    },
    {
      "cell_type": "markdown",
      "metadata": {
        "deletable": true,
        "editable": true,
        "id": "OX0wQilKlXh-",
        "colab_type": "text"
      },
      "source": [
        "After the first look at the data we noticed a lot of phone numbers. Since almost every number was unique we concluded that the numbers were irrelevant to consider as words. We considered grouping all number tokens into one token and analyze the presence of words, but we decided to first start by just removing the numbers."
      ]
    },
    {
      "cell_type": "code",
      "metadata": {
        "deletable": true,
        "editable": true,
        "id": "OU44Qi2FlXh_",
        "colab_type": "code",
        "colab": {}
      },
      "source": [
        "# Remove numbers\n",
        "texts = list(zip([a for a,b in texts], [re.sub('((\\(\\d{3}\\) ?)|(\\d{3}-))?\\d{3}-\\d', 'PHONE_NUMBER', b) for a,b in texts]))"
      ],
      "execution_count": 3,
      "outputs": []
    },
    {
      "cell_type": "markdown",
      "metadata": {
        "deletable": true,
        "editable": true,
        "id": "oZlh0s1olXiB",
        "colab_type": "text"
      },
      "source": [
        "Citation: regex from google search top results/stack overflow"
      ]
    },
    {
      "cell_type": "code",
      "metadata": {
        "deletable": true,
        "editable": true,
        "id": "xzA2SbRblXiC",
        "colab_type": "code",
        "colab": {}
      },
      "source": [
        "import numpy as np\n",
        "from keras.preprocessing import sequence"
      ],
      "execution_count": 4,
      "outputs": []
    },
    {
      "cell_type": "code",
      "metadata": {
        "deletable": true,
        "editable": true,
        "id": "CkE6WToqlXiF",
        "colab_type": "code",
        "colab": {
          "base_uri": "https://localhost:8080/",
          "height": 34
        },
        "outputId": "a2f6a9c6-4d4b-452c-fb22-2ce75fd0bd6c"
      },
      "source": [
        "X = [x[1] for x in texts]\n",
        "y = [x[0] for x in texts]\n",
        "X = np.array(X)\n",
        "print(type(X))"
      ],
      "execution_count": 5,
      "outputs": [
        {
          "output_type": "stream",
          "text": [
            "<class 'numpy.ndarray'>\n"
          ],
          "name": "stdout"
        }
      ]
    },
    {
      "cell_type": "code",
      "metadata": {
        "deletable": true,
        "editable": true,
        "id": "BlnLL6p0lXiH",
        "colab_type": "code",
        "colab": {
          "base_uri": "https://localhost:8080/",
          "height": 136
        },
        "outputId": "2826aef1-73dd-47e3-d032-a50e94171c1f"
      },
      "source": [
        "import keras\n",
        "y = [0 if y_ == \"spam\" else 1 for y_ in y]\n",
        "y_ohe = keras.utils.to_categorical(y)\n",
        "y_ohe"
      ],
      "execution_count": 6,
      "outputs": [
        {
          "output_type": "execute_result",
          "data": {
            "text/plain": [
              "array([[0., 1.],\n",
              "       [0., 1.],\n",
              "       [1., 0.],\n",
              "       ...,\n",
              "       [0., 1.],\n",
              "       [0., 1.],\n",
              "       [0., 1.]], dtype=float32)"
            ]
          },
          "metadata": {
            "tags": []
          },
          "execution_count": 6
        }
      ]
    },
    {
      "cell_type": "markdown",
      "metadata": {
        "deletable": true,
        "editable": true,
        "id": "wdX1a9CwlXiJ",
        "colab_type": "text"
      },
      "source": [
        "We assign spam as a value of 0 and ham as a value of one so that we can use precision score to measure false positive scores."
      ]
    },
    {
      "cell_type": "code",
      "metadata": {
        "deletable": true,
        "editable": true,
        "id": "45BQ-A0PlXiK",
        "colab_type": "code",
        "colab": {}
      },
      "source": [
        "import keras\n",
        "from keras.preprocessing.text import Tokenizer\n",
        "from keras.preprocessing.sequence import pad_sequences\n",
        "\n",
        "NUM_TOP_WORDS = None\n",
        "\n",
        "tokenizer = Tokenizer(num_words=NUM_TOP_WORDS)\n",
        "tokenizer.fit_on_texts(X)\n",
        "word_index = tokenizer.word_index\n",
        "\n",
        "sequences = tokenizer.texts_to_sequences(X)\n",
        "sequences = pad_sequences(sequences)\n",
        "\n",
        "MAX_TEXT_LEN = len(sequences[0]) # maximum and minimum number of words"
      ],
      "execution_count": 7,
      "outputs": []
    },
    {
      "cell_type": "markdown",
      "metadata": {
        "deletable": true,
        "editable": true,
        "id": "CrwrABEqlXiM",
        "colab_type": "text"
      },
      "source": [
        "We tokenize and measure the max length of the text using keras' tokenizer."
      ]
    },
    {
      "cell_type": "markdown",
      "metadata": {
        "deletable": true,
        "editable": true,
        "id": "GyQl5i-qlXiN",
        "colab_type": "text"
      },
      "source": [
        "### Cross Validation Method"
      ]
    },
    {
      "cell_type": "markdown",
      "metadata": {
        "deletable": true,
        "editable": true,
        "id": "bNpiD4ujlXiN",
        "colab_type": "text"
      },
      "source": [
        "We now have an embedding matrix for our word index.\n",
        "\n",
        "Finally, we split our data into training data and testing data.  We stratify the data on y_ohe to ensure that we get a fair representation of the spam and ham messages.  We believe this to be appropriate because each model needs to see a fair number of both spam messages and ham messages to ensure it does not overtrain on either."
      ]
    },
    {
      "cell_type": "code",
      "metadata": {
        "deletable": true,
        "editable": true,
        "id": "Zfn2MaKxlXiN",
        "colab_type": "code",
        "colab": {
          "base_uri": "https://localhost:8080/",
          "height": 34
        },
        "outputId": "ad2f7d5d-a8fc-4dfa-a952-17f7c7925cfb"
      },
      "source": [
        "from sklearn.model_selection import train_test_split\n",
        "# Split it into train / test subsets\n",
        "X_train, X_test, y_train_ohe, y_test_ohe = train_test_split(sequences, y_ohe, test_size=0.2,\n",
        "                                                            stratify=y_ohe, \n",
        "                                                            random_state=42)\n",
        "NUM_CLASSES = len(y_train_ohe[0])\n",
        "NUM_CLASSES"
      ],
      "execution_count": 8,
      "outputs": [
        {
          "output_type": "execute_result",
          "data": {
            "text/plain": [
              "2"
            ]
          },
          "metadata": {
            "tags": []
          },
          "execution_count": 8
        }
      ]
    },
    {
      "cell_type": "markdown",
      "metadata": {
        "deletable": true,
        "editable": true,
        "id": "oOk8yAG7lXiP",
        "colab_type": "text"
      },
      "source": [
        "### Evaluation Metrics\n",
        "For a spam filter the largest cost should be false positives.  It would be incredibly frustrating to have a real text filtered out.  Due to this models are evaluated in accordance to this.  To evaluate false positives as a loss function, we must implement a precision score metric which has been removed from keras.  Luckily, the old code is available in a one of keras' old versions."
      ]
    },
    {
      "cell_type": "code",
      "metadata": {
        "deletable": true,
        "editable": true,
        "id": "38MEFtWylXiQ",
        "colab_type": "code",
        "colab": {}
      },
      "source": [
        "# Old version of keras had precision score, copied the code to re-implement it.\n",
        "import keras.backend as K\n",
        "def precision(y_true, y_pred):\n",
        "    true_positives = K.sum(K.round(K.clip(y_true * y_pred, 0, 1)))\n",
        "    predicted_positives = K.sum(K.round(K.clip(y_pred, 0, 1)))\n",
        "    precision = true_positives / (predicted_positives + K.epsilon())\n",
        "    return precision"
      ],
      "execution_count": 9,
      "outputs": []
    },
    {
      "cell_type": "markdown",
      "metadata": {
        "deletable": true,
        "editable": true,
        "id": "N5EOowpHlXiS",
        "colab_type": "text"
      },
      "source": [
        "## Modeling\n",
        "To avoid the need for training our own embedding layer which is incredibly computationally expensive, we load up a pretrained [GloVe](https://nlp.stanford.edu/projects/glove/) embedding.\n",
        "\n",
        "[You can read more about GloVe embeddings here](https://nlp.stanford.edu/projects/glove/)\n",
        " \n",
        "**Warning: this is a big download**"
      ]
    },
    {
      "cell_type": "code",
      "metadata": {
        "id": "uUj2bHaAnKPl",
        "colab_type": "code",
        "colab": {
          "base_uri": "https://localhost:8080/",
          "height": 51
        },
        "outputId": "1966aa0f-7259-4cd1-9da7-112525a42471"
      },
      "source": [
        "import time\n",
        "import zipfile\n",
        "from os import path\n",
        "import os\n",
        "import sys\n",
        "from urllib.request import urlretrieve\n",
        "appdata = path.expanduser(path.join(\"~\", \".glove\"))\n",
        "if not path.isdir(appdata):\n",
        "    os.mkdir(appdata)\n",
        "    \n",
        "GLOVE_DL = \"http://nlp.stanford.edu/data/glove.6B.zip\"\n",
        "FNAMES = \"glove.6B.%dd.txt\" % 100\n",
        "\n",
        "def reporthook(count, block_size, total_size):\n",
        "    global start_time\n",
        "    if count == 0:\n",
        "        start_time = time.time()\n",
        "        return\n",
        "    duration = time.time() - start_time\n",
        "    progress_size = int(count * block_size)\n",
        "    speed = int(progress_size / (1024 * duration))\n",
        "    percent = int(count * block_size * 100 / total_size)\n",
        "    sys.stdout.write(\"\\r...%d%%, %d MB, %d KB/s, %d seconds passed\" %\n",
        "            (percent, progress_size / (1024 * 1024), speed, duration))\n",
        "    sys.stdout.flush()\n",
        "\n",
        "# Download embeddings if neccesary\n",
        "def download_embeddings():\n",
        "    if not path.exists(path.join(appdata,\".downloaded\")):\n",
        "        print(\"Downloading pre-trained glove embeddings to %s\" % (appdata))\n",
        "        url = \"http://nlp.stanford.edu/data/glove.6B.zip\"\n",
        "        urlretrieve(url, os.path.join(appdata, \"glove.6B.zip\"), reporthook)\n",
        "\n",
        "        print(\"Unzipping glove embeddings.\")\n",
        "        zip_ref = zipfile.ZipFile(path.join(appdata,\"glove.6B.zip\"))\n",
        "        zip_ref.extractall(appdata)\n",
        "        zip_ref.close()\n",
        "\n",
        "        print(\"Unzipping Complete: \",os.listdir(appdata),\"were downloaded\")\n",
        "        open(path.join(appdata,\".downloaded\"),\"a\").close()\n",
        "    else:\n",
        "        print(\"Embedding files not found, but download directory already exists\")\n",
        "\n",
        "download_embeddings()"
      ],
      "execution_count": null,
      "outputs": [
        {
          "output_type": "stream",
          "text": [
            "Downloading pre-trained glove embeddings to /root/.glove\n",
            "...22%, 186 MB, 2561 KB/s, 74 seconds passed"
          ],
          "name": "stdout"
        }
      ]
    },
    {
      "cell_type": "markdown",
      "metadata": {
        "id": "O0cVCgiUKVPv",
        "colab_type": "text"
      },
      "source": [
        "We load the values from the GloVe embedding into a numpy matrix.  This allows us to lookup the embedded values for a work easily."
      ]
    },
    {
      "cell_type": "code",
      "metadata": {
        "id": "KqbInsXpLnLi",
        "colab_type": "code",
        "colab": {}
      },
      "source": [
        "!ls /root/.glove"
      ],
      "execution_count": null,
      "outputs": []
    },
    {
      "cell_type": "code",
      "metadata": {
        "deletable": true,
        "editable": true,
        "id": "O_UyVT8GlXiT",
        "colab_type": "code",
        "colab": {}
      },
      "source": [
        "EMBED_SIZE = 100\n",
        "# the embed size should match the file you load glove from\n",
        "embeddings_index = {}\n",
        "f = open(path.join(appdata, 'glove.6B.100d.txt'), 'r')\n",
        "# save key/array pairs of the embeddings\n",
        "#  the key of the dictionary is the word, the array is the embedding\n",
        "for line in f:\n",
        "    values = line.split()\n",
        "    word = values[0]\n",
        "    coefs = np.asarray(values[1:], dtype='float32')\n",
        "    embeddings_index[word] = coefs\n",
        "f.close()\n",
        "\n",
        "print('Found %s word vectors.' % len(embeddings_index))\n",
        "\n",
        "# now fill in the matrix, using the ordering from the\n",
        "#  keras word tokenizer from before\n",
        "embedding_matrix = np.zeros((len(word_index) + 1, EMBED_SIZE))\n",
        "for word, i in word_index.items():\n",
        "    embedding_vector = embeddings_index.get(word)\n",
        "    if embedding_vector is not None:\n",
        "        # words not found in embedding index will be all-zeros.\n",
        "        embedding_matrix[i] = embedding_vector\n",
        "\n",
        "print(embedding_matrix.shape)"
      ],
      "execution_count": null,
      "outputs": []
    },
    {
      "cell_type": "markdown",
      "metadata": {
        "id": "AfV6t9YuKe58",
        "colab_type": "text"
      },
      "source": [
        "Next we load these into a untrainable [keras Embedding layer](https://keras.io/api/layers/core_layers/embedding/)."
      ]
    },
    {
      "cell_type": "code",
      "metadata": {
        "deletable": true,
        "editable": true,
        "id": "WeTVwkd6lXiV",
        "colab_type": "code",
        "colab": {}
      },
      "source": [
        "from keras.layers import Embedding\n",
        "\n",
        "embedding_layer = Embedding(len(word_index) + 1,\n",
        "                            EMBED_SIZE,\n",
        "                            weights=[embedding_matrix],\n",
        "                            input_length=MAX_TEXT_LEN,\n",
        "                            trainable=False)\n",
        "embedding_layer"
      ],
      "execution_count": null,
      "outputs": []
    },
    {
      "cell_type": "markdown",
      "metadata": {
        "id": "RhA5lw1GKspm",
        "colab_type": "text"
      },
      "source": [
        "Finally we put it all together into a small neural net with an LSTM layer and a Dense layer."
      ]
    },
    {
      "cell_type": "code",
      "metadata": {
        "deletable": true,
        "editable": true,
        "id": "ORRa07EYlXiX",
        "colab_type": "code",
        "colab": {}
      },
      "source": [
        "from keras.models import Sequential\n",
        "from keras.layers import Dense\n",
        "from keras.layers import LSTM\n",
        "\n",
        "metrics=[precision,\"accuracy\"]\n",
        "\n",
        "rnn = Sequential()\n",
        "rnn.add(embedding_layer)\n",
        "rnn.add(LSTM(100,dropout=0.2, recurrent_dropout=0.2))\n",
        "rnn.add(Dense(NUM_CLASSES, activation='sigmoid'))\n",
        "rnn.compile(loss='categorical_crossentropy', \n",
        "              optimizer='rmsprop', \n",
        "              metrics=metrics)\n",
        "print(rnn.summary())"
      ],
      "execution_count": null,
      "outputs": []
    },
    {
      "cell_type": "code",
      "metadata": {
        "id": "Uinnf5SaLELn",
        "colab_type": "code",
        "colab": {}
      },
      "source": [
        "from IPython.display import Image\n",
        "keras.utils.plot_model(rnn, \"rnn_model.png\", show_shapes=True)\n",
        "Image(filename=\"rnn_model.png\")"
      ],
      "execution_count": null,
      "outputs": []
    },
    {
      "cell_type": "code",
      "metadata": {
        "deletable": true,
        "editable": true,
        "id": "QagIGpwplXiZ",
        "colab_type": "code",
        "colab": {}
      },
      "source": [
        "rnn.fit(X_train, y_train_ohe, validation_data=(X_test, y_test_ohe), epochs=3, batch_size=64)"
      ],
      "execution_count": null,
      "outputs": []
    },
    {
      "cell_type": "markdown",
      "metadata": {
        "id": "eyxrvdjjL9ug",
        "colab_type": "text"
      },
      "source": [
        "Our model gets around a 97% accuracy and 99% precision score.  This is fantastic right off the bat - but we can do better."
      ]
    },
    {
      "cell_type": "markdown",
      "metadata": {
        "deletable": true,
        "editable": true,
        "id": "fY86bMEmlXib",
        "colab_type": "text"
      },
      "source": [
        "### Comparing Different Models"
      ]
    },
    {
      "cell_type": "markdown",
      "metadata": {
        "deletable": true,
        "editable": true,
        "id": "f63d3fWllXib",
        "colab_type": "text"
      },
      "source": [
        "To begin, we will evaluate a network using an LSTM cell, a GRU cell, and a SimpleRNN cell.  We will use a standard hyperparameter set to evaluate the results and decide which two architectures we want to explore in depth based on the results."
      ]
    },
    {
      "cell_type": "code",
      "metadata": {
        "deletable": true,
        "editable": true,
        "id": "imV_kti1lXib",
        "colab_type": "code",
        "colab": {}
      },
      "source": [
        "from keras.layers import LSTM, GRU, SimpleRNN\n",
        "\n",
        "rnns = []\n",
        "\n",
        "for func in [SimpleRNN, LSTM, GRU]:\n",
        "    rnn = Sequential()\n",
        "    rnn.add(embedding_layer)\n",
        "    rnn.add(func(100,dropout=0.2, recurrent_dropout=0.2))\n",
        "    rnn.add(Dense(NUM_CLASSES, activation='sigmoid'))\n",
        "\n",
        "    rnn.compile(loss='categorical_crossentropy', \n",
        "                  optimizer='rmsprop', \n",
        "                  metrics=metrics)\n",
        "    rnns.append(rnn)"
      ],
      "execution_count": null,
      "outputs": []
    },
    {
      "cell_type": "code",
      "metadata": {
        "deletable": true,
        "editable": true,
        "id": "CnyE7ekDlXid",
        "colab_type": "code",
        "colab": {}
      },
      "source": [
        "for rnn, name in zip(rnns,['simple','lstm','gru']):\n",
        "    print('\\nTesting Cell Type: ',name,'========')\n",
        "    rnn.fit(X_train, y_train_ohe, epochs=3, batch_size=64, validation_data=(X_test, y_test_ohe))"
      ],
      "execution_count": null,
      "outputs": []
    },
    {
      "cell_type": "markdown",
      "metadata": {
        "deletable": true,
        "editable": true,
        "id": "erCbPXtLlXig",
        "colab_type": "text"
      },
      "source": [
        "As we can see, the GRU model performs the best by a large margin.  If we continue to train the GRU model it seems that we will get some really great results.  We will try also try to find the best hyperparameters for the GRU model.\n",
        "\n",
        "After we find the best GRU results we will use an LSTM and then measure the results of the LSTM."
      ]
    },
    {
      "cell_type": "markdown",
      "metadata": {
        "deletable": true,
        "editable": true,
        "id": "NIT57D_DlXig",
        "colab_type": "text"
      },
      "source": [
        "### Gridsearch on GRU Model"
      ]
    },
    {
      "cell_type": "code",
      "metadata": {
        "deletable": true,
        "editable": true,
        "id": "60LiQnlxlXig",
        "colab_type": "code",
        "colab": {}
      },
      "source": [
        "dropouts=[.1,.2,.3]\n",
        "recurrent_dropouts=[.1,.2,.3]\n",
        "\n",
        "for dropout in dropouts:\n",
        "    for recurrent_dropout in recurrent_dropouts:\n",
        "        rnn = Sequential()\n",
        "        rnn.add(embedding_layer)\n",
        "        rnn.add(func(100,dropout=dropout, recurrent_dropout=recurrent_dropout))\n",
        "        rnn.add(Dense(NUM_CLASSES, activation='sigmoid'))\n",
        "\n",
        "        rnn.compile(loss='categorical_crossentropy', \n",
        "                      optimizer='rmsprop', \n",
        "                      metrics=metrics)\n",
        "        print(\"Hyper Paramater Set:\\n\\tdropout=%.1f\\n\\trecurrent_dropout=%.1f\" % (dropout,recurrent_dropout))\n",
        "        rnn.fit(X_train,y_train_ohe,epochs=3, batch_size=64, validation_data=(X_test,y_test_ohe))"
      ],
      "execution_count": null,
      "outputs": []
    },
    {
      "cell_type": "markdown",
      "metadata": {
        "deletable": true,
        "editable": true,
        "id": "WrM8HBZTlXii",
        "colab_type": "text"
      },
      "source": [
        "###### We get some pretty ridiculously high accuracy with both of our hyperparameters set to .1"
      ]
    },
    {
      "cell_type": "markdown",
      "metadata": {
        "deletable": true,
        "editable": true,
        "id": "E7cMp23qlXii",
        "colab_type": "text"
      },
      "source": [
        "As we can see, with dropout and recurrent dropout at .1 we get some really great results; with accuracy getting as high as 98.6%.  This is ridiculously high.  The model gets .997 precision and .98 accuracy on the validation set with these hyperparameters.\n",
        "\n",
        "We actually get a similar precision score in a few sets of hyperparameters, but we get a higher accuracy with the .1 and .1 set so this is our most effective model."
      ]
    },
    {
      "cell_type": "code",
      "metadata": {
        "deletable": true,
        "editable": true,
        "id": "hRw3zMA8lXii",
        "colab_type": "code",
        "colab": {}
      },
      "source": [
        "best_model = Sequential()\n",
        "best_model.add(embedding_layer)\n",
        "best_model.add(GRU(100,dropout=.1, recurrent_dropout=.1))\n",
        "best_model.add(Dense(NUM_CLASSES, activation='sigmoid'))\n",
        "best_model.compile(loss='categorical_crossentropy', \n",
        "                      optimizer='rmsprop', \n",
        "                      metrics=metrics)"
      ],
      "execution_count": null,
      "outputs": []
    },
    {
      "cell_type": "markdown",
      "metadata": {
        "deletable": true,
        "editable": true,
        "id": "brmUPxIAlXik",
        "colab_type": "text"
      },
      "source": [
        "### Training the Best Model With More Epochs"
      ]
    },
    {
      "cell_type": "code",
      "metadata": {
        "deletable": true,
        "editable": true,
        "id": "mnEy6I0BlXik",
        "colab_type": "code",
        "colab": {}
      },
      "source": [
        "best_model.fit(X_train,y_train_ohe,epochs=10, batch_size=64, validation_data=(X_test,y_test_ohe))"
      ],
      "execution_count": null,
      "outputs": []
    },
    {
      "cell_type": "markdown",
      "metadata": {
        "deletable": true,
        "editable": true,
        "id": "ZV9uEjnulXim",
        "colab_type": "text"
      },
      "source": [
        "###### We end up getting above 99.5% accuracy and a precision score of .9986 on the validation set!  We could absolutely use this to publish a spam filter.  This is a very good score on this dataset - within a tenth of a percent of state of the art on both metrics"
      ]
    },
    {
      "cell_type": "markdown",
      "metadata": {
        "deletable": true,
        "editable": true,
        "id": "soTkpDexlXim",
        "colab_type": "text"
      },
      "source": [
        "### Grid Search Using LSTM"
      ]
    },
    {
      "cell_type": "markdown",
      "metadata": {
        "deletable": true,
        "editable": true,
        "id": "6UGXNFBwlXim",
        "colab_type": "text"
      },
      "source": [
        "Now that we know we can get results as high as 99.5% accuracy and 99.8% precision with the GRU network we will try to see how high we can get our LSTM's score."
      ]
    },
    {
      "cell_type": "code",
      "metadata": {
        "deletable": true,
        "editable": true,
        "scrolled": true,
        "id": "Z8VVj2jklXin",
        "colab_type": "code",
        "colab": {}
      },
      "source": [
        "dropouts=[.1,.2,.3]\n",
        "recurrent_dropouts=[.1,.2,.3]\n",
        "\n",
        "for dropout in dropouts:\n",
        "    for recurrent_dropout in recurrent_dropouts:\n",
        "        rnn = Sequential()\n",
        "        rnn.add(embedding_layer)\n",
        "        rnn.add(LSTM(100,dropout=dropout, recurrent_dropout=recurrent_dropout))\n",
        "        rnn.add(Dense(NUM_CLASSES, activation='sigmoid'))\n",
        "\n",
        "        rnn.compile(loss='categorical_crossentropy', \n",
        "                      optimizer='rmsprop', \n",
        "                      metrics=metrics)\n",
        "        print(\"Hyper Paramater Set:\\n\\tdropout=%.1f\\n\\trecurrent_dropout=%.1f\" % (dropout,recurrent_dropout))\n",
        "        rnn.fit(X_train,y_train_ohe,epochs=3, batch_size=64, validation_data=(X_test,y_test_ohe))\n",
        "        print(\"\\n\")"
      ],
      "execution_count": null,
      "outputs": []
    },
    {
      "cell_type": "markdown",
      "metadata": {
        "deletable": true,
        "editable": true,
        "id": "j3J74MLJlXip",
        "colab_type": "text"
      },
      "source": [
        "###### As we can see, our best LSTM hyper parameter set is with a dropout of .1 and a recurrent dropout of .2.  We will create this network and train it with more epochs."
      ]
    },
    {
      "cell_type": "code",
      "metadata": {
        "deletable": true,
        "editable": true,
        "id": "Sy_C3IrblXip",
        "colab_type": "code",
        "colab": {}
      },
      "source": [
        "best_lstm = Sequential()\n",
        "best_lstm.add(embedding_layer)\n",
        "best_lstm.add(LSTM(100,dropout=.1, recurrent_dropout=.2))\n",
        "best_lstm.add(Dense(NUM_CLASSES, activation='sigmoid'))\n",
        "best_lstm.compile(loss='categorical_crossentropy', \n",
        "                      optimizer='rmsprop', \n",
        "                      metrics=metrics)"
      ],
      "execution_count": null,
      "outputs": []
    },
    {
      "cell_type": "markdown",
      "metadata": {
        "deletable": true,
        "editable": true,
        "id": "nVwCF6MjlXir",
        "colab_type": "text"
      },
      "source": [
        "### Comparison of models"
      ]
    },
    {
      "cell_type": "code",
      "metadata": {
        "deletable": true,
        "editable": true,
        "id": "D6pIxJBqlXis",
        "colab_type": "code",
        "colab": {}
      },
      "source": [
        "%%time\n",
        "\n",
        "from sklearn.model_selection import StratifiedShuffleSplit\n",
        "from sklearn.metrics import confusion_matrix, precision_score\n",
        "\n",
        "sss = StratifiedShuffleSplit(n_splits=3)\n",
        "\n",
        "gru_scores = []\n",
        "gru_cms = []\n",
        "lstm_scores = []\n",
        "lstm_cms = []\n",
        "\n",
        "split_num = 1\n",
        "for train_index, test_index in sss.split(sequences, y_ohe):\n",
        "    print('Split #{}'.format(split_num))\n",
        "    split_num += 1\n",
        "    X_train, X_test = sequences[train_index], sequences[test_index]\n",
        "    y_train_ohe, y_test_ohe = y_ohe[train_index], y_ohe[test_index]\n",
        "    \n",
        "    # one hot decode for scoring\n",
        "    y_test = [list(x).index(1.0) for x in list(y_test_ohe)] \n",
        "    \n",
        "    best_model.fit(X_train,y_train_ohe,epochs=3,\n",
        "                   batch_size=64,validation_data=(X_train,y_train_ohe),verbose=0)\n",
        "    y_hat = best_model.predict(X_test)\n",
        "    \n",
        "    # one hot decode for scoring\n",
        "    y_hat = np.array([[0,1] if np.argmax(x) == 1 else [1,0] for x in y_hat]).astype(float)\n",
        "    y_hat = [list(x).index(1.0) for x in list(y_hat)]\n",
        "    \n",
        "    gru_scores.append(precision_score(y_test, y_hat))\n",
        "    gru_cms.append(confusion_matrix(y_test, y_hat))\n",
        "    \n",
        "    print(gru_scores[-1])\n",
        "    print(gru_cms[-1])\n",
        "    \n",
        "    best_lstm.fit(X_train,y_train_ohe,epochs=3,\n",
        "                   batch_size=64,validation_data=(X_train,y_train_ohe),verbose=0)\n",
        "    y_hat = best_lstm.predict(X_test)\n",
        "    \n",
        "    # one hot decode for scoring\n",
        "    y_hat = np.array([[0,1] if np.argmax(x) == 1 else [1,0] for x in y_hat]).astype(float)\n",
        "    y_hat = [list(x).index(1.0) for x in list(y_hat)]\n",
        "    \n",
        "    lstm_scores.append(precision_score(y_test, y_hat))\n",
        "    lstm_cms.append(confusion_matrix(y_test, y_hat))\n",
        "    \n",
        "    print(lstm_scores[-1])\n",
        "    print(lstm_cms[-1])"
      ],
      "execution_count": null,
      "outputs": []
    },
    {
      "cell_type": "code",
      "metadata": {
        "deletable": true,
        "editable": true,
        "id": "7k3QdXPBlXit",
        "colab_type": "code",
        "colab": {}
      },
      "source": [
        "# Plot bar graphs\n",
        "bar_width = 0.20\n",
        "index = np.arange(3)\n",
        "opacity=0.4\n",
        "\n",
        "plt.bar(index, gru_scores, bar_width, align='center',\n",
        "        color='b', label='GRU', alpha=opacity)\n",
        "plt.bar(index + bar_width, lstm_scores, bar_width,\n",
        "        align='center', color='r', label='LSTM', alpha=opacity)\n",
        "plt.title('GRU vs LSTM (precision score)')\n",
        "\n",
        "plt.legend()\n",
        "plt.tight_layout()\n",
        "plt.show()"
      ],
      "execution_count": null,
      "outputs": []
    },
    {
      "cell_type": "markdown",
      "metadata": {
        "deletable": true,
        "editable": true,
        "id": "JlZe_WT6lXiv",
        "colab_type": "text"
      },
      "source": [
        "Both models perform extremely well, however the GRU model performed just a bit better.\n",
        "   \n",
        "By looking at heatmaps of the confusion matrices we can get a more granular look into how our models classify each class."
      ]
    },
    {
      "cell_type": "code",
      "metadata": {
        "deletable": true,
        "editable": true,
        "id": "gOJVcJw9lXiv",
        "colab_type": "code",
        "colab": {}
      },
      "source": [
        "# Plot heatmap\n",
        "import seaborn as sns\n",
        "labels = ['Spam', 'Ham']\n",
        "gru_cm_avg = np.zeros((2,2))\n",
        "for cm in gru_cms:\n",
        "    # turn cm into percentages\n",
        "    totals = np.repeat(np.sum(cm, axis=1), 2, axis=0).reshape(2,2)\n",
        "    cm_ = cm / totals / 3\n",
        "    gru_cm_avg = np.sum([gru_cm_avg, cm_], axis=0)\n",
        "    \n",
        "sns.heatmap(gru_cm_avg, annot=True, xticklabels=labels, yticklabels=labels)\n",
        "plt.title('Heatmap of GRU')"
      ],
      "execution_count": null,
      "outputs": []
    },
    {
      "cell_type": "code",
      "metadata": {
        "deletable": true,
        "editable": true,
        "id": "jVUvn-uJlXix",
        "colab_type": "code",
        "colab": {}
      },
      "source": [
        "# Plot heatmap\n",
        "lstm_cm_avg = np.zeros((2,2))\n",
        "for cm in lstm_cms:\n",
        "    # turn cm into percentages\n",
        "    totals = np.repeat(np.sum(cm, axis=1), 2, axis=0).reshape(2,2)\n",
        "    cm_ = cm / totals / 3\n",
        "    lstm_cm_avg = np.sum([lstm_cm_avg, cm_], axis=0)\n",
        "    \n",
        "sns.heatmap(lstm_cm_avg, annot=True, xticklabels=labels, yticklabels=labels)\n",
        "plt.title('Heatmap of lstm')"
      ],
      "execution_count": null,
      "outputs": []
    },
    {
      "cell_type": "markdown",
      "metadata": {
        "deletable": true,
        "editable": true,
        "id": "8L67B7DklXiy",
        "colab_type": "text"
      },
      "source": [
        "From the heatmaps we can see that ham gets classified nearly perfectly using both models, however our GRU model scores much better than the LSTM when classifying spam instances."
      ]
    },
    {
      "cell_type": "markdown",
      "metadata": {
        "deletable": true,
        "editable": true,
        "id": "3fvUpMQilXiz",
        "colab_type": "text"
      },
      "source": [
        "## NLTK tokenize vs keras tokenizer"
      ]
    },
    {
      "cell_type": "markdown",
      "metadata": {
        "deletable": true,
        "editable": true,
        "id": "Mo4r-GqolXiz",
        "colab_type": "text"
      },
      "source": [
        "We thought it could be interesting to compare the generalized NLTK tokenizer to the keras tokenizer.  We decided to compare them using basic LSTM networks."
      ]
    },
    {
      "cell_type": "code",
      "metadata": {
        "deletable": true,
        "editable": true,
        "id": "09W8Zyk2lXiz",
        "colab_type": "code",
        "colab": {}
      },
      "source": [
        "from nltk.tokenize import word_tokenize\n",
        "X_nltk = [word_tokenize(x) for x in X]"
      ],
      "execution_count": null,
      "outputs": []
    },
    {
      "cell_type": "code",
      "metadata": {
        "deletable": true,
        "editable": true,
        "id": "o8USTZNXlXi1",
        "colab_type": "code",
        "colab": {}
      },
      "source": [
        "encoder = {}\n",
        "counter = 0\n",
        "def encode_sentence(seq):\n",
        "    global encoder, counter\n",
        "    fseq = []\n",
        "    for x in seq:\n",
        "        if x not in encoder:\n",
        "            encoder[x] = counter\n",
        "            counter+=1\n",
        "        fseq.append(encoder[x])\n",
        "    return fseq\n",
        "\n",
        "X_nltk = [encode_sentence(x) for x in X]\n",
        "X_nltk = pad_sequences(X_nltk, maxlen=None)"
      ],
      "execution_count": null,
      "outputs": []
    },
    {
      "cell_type": "code",
      "metadata": {
        "deletable": true,
        "editable": true,
        "id": "m8GxzeO9lXi2",
        "colab_type": "code",
        "colab": {}
      },
      "source": [
        "embedding_layer = Embedding(len(word_index) + 1,\n",
        "                            EMBED_SIZE,\n",
        "                            weights=[embedding_matrix],\n",
        "                            input_length=len(X_nltk[0]),\n",
        "                            trainable=False)"
      ],
      "execution_count": null,
      "outputs": []
    },
    {
      "cell_type": "code",
      "metadata": {
        "deletable": true,
        "editable": true,
        "scrolled": true,
        "id": "f78hkwsulXi4",
        "colab_type": "code",
        "colab": {}
      },
      "source": [
        "rnn = Sequential()\n",
        "rnn.add(embedding_layer)\n",
        "rnn.add(LSTM(100,dropout=0.2, recurrent_dropout=0.2))\n",
        "rnn.add(Dense(NUM_CLASSES, activation='sigmoid'))\n",
        "rnn.compile(loss='categorical_crossentropy', \n",
        "              optimizer='rmsprop', \n",
        "              metrics=metrics)\n",
        "print(rnn.summary())"
      ],
      "execution_count": null,
      "outputs": []
    },
    {
      "cell_type": "code",
      "metadata": {
        "deletable": true,
        "editable": true,
        "id": "tjs7MBqZlXi6",
        "colab_type": "code",
        "colab": {}
      },
      "source": [
        "X_train, X_test, y_train_ohe, y_test_ohe = train_test_split(X_nltk, y_ohe, test_size=0.2,\n",
        "                                                            stratify=y_ohe, \n",
        "                                                            random_state=42)"
      ],
      "execution_count": null,
      "outputs": []
    },
    {
      "cell_type": "code",
      "metadata": {
        "deletable": true,
        "editable": true,
        "id": "P195J8UAlXi8",
        "colab_type": "code",
        "colab": {}
      },
      "source": [
        "rnn.fit(X_train, y_train_ohe, validation_data=(X_test, y_test_ohe), epochs=3, batch_size=64)"
      ],
      "execution_count": null,
      "outputs": []
    },
    {
      "cell_type": "markdown",
      "metadata": {
        "id": "fhsBGWTkOKVi",
        "colab_type": "text"
      },
      "source": [
        "Unfortunately it's obvious that the built in keras tokenizer is leagues behind the GloVe embeddings."
      ]
    },
    {
      "cell_type": "markdown",
      "metadata": {
        "collapsed": true,
        "deletable": true,
        "editable": true,
        "id": "_-dqw4cQlXi9",
        "colab_type": "text"
      },
      "source": [
        "# KerasGlove Published to PyPi\n",
        "I really liked being able to easily use glove embeddings with keras so I published a package to PyPi for it.  It's available under kerasglove and removes the need for a lot of the code in the notebook.  Here is a sample usage of it:"
      ]
    },
    {
      "cell_type": "code",
      "metadata": {
        "id": "sUx2wr3Ymr1y",
        "colab_type": "code",
        "colab": {}
      },
      "source": [
        "%%bash\n",
        "pip install kerasglove"
      ],
      "execution_count": null,
      "outputs": []
    },
    {
      "cell_type": "code",
      "metadata": {
        "deletable": true,
        "editable": true,
        "id": "FfjCbJ5alXi-",
        "colab_type": "code",
        "colab": {}
      },
      "source": [
        "from kerasglove import GloveEmbedding\n",
        "EMBED_SIZE=100\n",
        "metrics = ['accuracy',precision]\n",
        "\n",
        "embed_layer = GloveEmbedding(EMBED_SIZE, MAX_TEXT_LEN,word_index)\n",
        "embed_layer"
      ],
      "execution_count": null,
      "outputs": []
    },
    {
      "cell_type": "code",
      "metadata": {
        "deletable": true,
        "editable": true,
        "id": "JfHnnzTylXjA",
        "colab_type": "code",
        "colab": {}
      },
      "source": [
        "from keras.models import Sequential\n",
        "from keras.layers import Dense\n",
        "from keras.layers import LSTM\n",
        "from kerasglove import GloveEmbedding\n",
        "\n",
        "rnn = Sequential()\n",
        "rnn.add(GloveEmbedding(EMBED_SIZE,\n",
        "                            MAX_TEXT_LEN,\n",
        "                            word_index))\n",
        "rnn.add(GRU(100,dropout=0.2, recurrent_dropout=0.2))\n",
        "rnn.add(Dense(NUM_CLASSES, activation='sigmoid'))\n",
        "rnn.compile(loss='categorical_crossentropy', \n",
        "              optimizer='rmsprop', \n",
        "              metrics=metrics)\n",
        "print(rnn.summary())"
      ],
      "execution_count": null,
      "outputs": []
    },
    {
      "cell_type": "code",
      "metadata": {
        "deletable": true,
        "editable": true,
        "id": "-bDYG2HxlXjC",
        "colab_type": "code",
        "colab": {}
      },
      "source": [
        "X_train, X_test, y_train_ohe, y_test_ohe = train_test_split(sequences, y_ohe, test_size=0.2,\n",
        "                                                            stratify=y_ohe, \n",
        "                                                            random_state=42)"
      ],
      "execution_count": null,
      "outputs": []
    },
    {
      "cell_type": "code",
      "metadata": {
        "deletable": true,
        "editable": true,
        "id": "6SaaMFh3lXjD",
        "colab_type": "code",
        "colab": {}
      },
      "source": [
        "rnn.fit(X_train, y_train_ohe, validation_data=(X_test, y_test_ohe), epochs=3, batch_size=64)"
      ],
      "execution_count": null,
      "outputs": []
    },
    {
      "cell_type": "markdown",
      "metadata": {
        "deletable": true,
        "editable": true,
        "id": "JJxG2od8lXjF",
        "colab_type": "text"
      },
      "source": [
        "As we can see, this is far easier to construct a network with a pre trained GloVe emebedding than doing it manually.\n",
        "\n",
        "The full source is here:\n",
        "https://github.com/LukeWood/KerasGlove"
      ]
    }
  ]
}